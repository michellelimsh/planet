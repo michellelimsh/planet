{
 "cells": [
  {
   "cell_type": "code",
   "execution_count": null,
   "metadata": {
    "colab": {
     "base_uri": "https://localhost:8080/"
    },
    "executionInfo": {
     "elapsed": 21009,
     "status": "ok",
     "timestamp": 1650314088818,
     "user": {
      "displayName": "Rui Qin Ng",
      "userId": "06262937238615916408"
     },
     "user_tz": -480
    },
    "id": "bsmrLsPoYQ-3",
    "outputId": "23fca958-0308-4ced-9d0c-714613bb070f"
   },
   "outputs": [],
   "source": [
    "# Imports\n",
    "import json\n",
    "\n",
    "import numpy as np\n",
    "import pandas as pd\n",
    "\n",
    "from google.colab import drive\n",
    "\n",
    "pd.options.display.max_rows = 999\n",
    "\n",
    "drive.mount('/gdrive')"
   ]
  },
  {
   "cell_type": "code",
   "execution_count": null,
   "metadata": {
    "colab": {
     "base_uri": "https://localhost:8080/",
     "height": 1000
    },
    "executionInfo": {
     "elapsed": 880,
     "status": "ok",
     "timestamp": 1650314128933,
     "user": {
      "displayName": "Rui Qin Ng",
      "userId": "06262937238615916408"
     },
     "user_tz": -480
    },
    "id": "vV7AlsJmYiEc",
    "outputId": "a22e5e57-21fd-4474-a62c-b11db012ae9b"
   },
   "outputs": [],
   "source": [
    "trips_df = pd.read_csv('/gdrive/My Drive/Tigyore/data/nyc_trips/nyc_trips_data/trips_processed.csv')\n",
    "trips_df.head(20)"
   ]
  },
  {
   "cell_type": "code",
   "execution_count": null,
   "metadata": {
    "colab": {
     "base_uri": "https://localhost:8080/",
     "height": 337
    },
    "executionInfo": {
     "elapsed": 332,
     "status": "ok",
     "timestamp": 1650314159196,
     "user": {
      "displayName": "Rui Qin Ng",
      "userId": "06262937238615916408"
     },
     "user_tz": -480
    },
    "id": "CykEfmk-Ysq7",
    "outputId": "ee987929-a777-4a6a-d108-face28538927"
   },
   "outputs": [],
   "source": [
    "other_mode_df = trips_df.loc[trips_df['mode'] != 'TRANSIT']\n",
    "other_mode_df.head()"
   ]
  },
  {
   "cell_type": "code",
   "execution_count": null,
   "metadata": {
    "colab": {
     "base_uri": "https://localhost:8080/",
     "height": 441
    },
    "executionInfo": {
     "elapsed": 323,
     "status": "ok",
     "timestamp": 1650314510611,
     "user": {
      "displayName": "Rui Qin Ng",
      "userId": "06262937238615916408"
     },
     "user_tz": -480
    },
    "id": "EHKWgDWsY6Dg",
    "outputId": "6986dd77-b5ec-4db3-e397-41d4e6f2cd47"
   },
   "outputs": [],
   "source": [
    "other_mode_df['location_id'] = (other_mode_df['lat'] * other_mode_df['long'] * 10000000000).abs().astype('int')\n",
    "\n",
    "other_mode_df.head()"
   ]
  },
  {
   "cell_type": "code",
   "execution_count": null,
   "metadata": {
    "id": "8TCN-w7DZYaB"
   },
   "outputs": [],
   "source": [
    "other_mode_df.to_csv('/gdrive/My Drive/Tigyore/data/nyc_trips/nyc_trips_mapped/nyc_trips_other.csv', index=False)"
   ]
  },
  {
   "cell_type": "code",
   "execution_count": null,
   "metadata": {
    "id": "3KY22h9HaiG8"
   },
   "outputs": [],
   "source": []
  }
 ],
 "metadata": {
  "colab": {
   "authorship_tag": "ABX9TyOtXX2Xb5+l3gZfXPERtVPn",
   "collapsed_sections": [],
   "name": "4d. Trip Locations.ipynb",
   "provenance": []
  },
  "kernelspec": {
   "display_name": "Python 3 (ipykernel)",
   "language": "python",
   "name": "python3"
  },
  "language_info": {
   "codemirror_mode": {
    "name": "ipython",
    "version": 3
   },
   "file_extension": ".py",
   "mimetype": "text/x-python",
   "name": "python",
   "nbconvert_exporter": "python",
   "pygments_lexer": "ipython3",
   "version": "3.9.5"
  }
 },
 "nbformat": 4,
 "nbformat_minor": 1
}
