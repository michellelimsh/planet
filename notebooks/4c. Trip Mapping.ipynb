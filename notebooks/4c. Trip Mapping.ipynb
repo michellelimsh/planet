{
 "cells": [
  {
   "cell_type": "code",
   "execution_count": null,
   "metadata": {
    "colab": {
     "base_uri": "https://localhost:8080/"
    },
    "executionInfo": {
     "elapsed": 4007,
     "status": "ok",
     "timestamp": 1650308915889,
     "user": {
      "displayName": "Rui Qin Ng",
      "userId": "06262937238615916408"
     },
     "user_tz": -480
    },
    "id": "9Z4QvTCf8PNa",
    "outputId": "77c383b6-4ae3-4961-883c-6b41f3df71b5"
   },
   "outputs": [],
   "source": [
    "!pip install fuzzymatcher"
   ]
  },
  {
   "cell_type": "code",
   "execution_count": null,
   "metadata": {
    "colab": {
     "base_uri": "https://localhost:8080/"
    },
    "executionInfo": {
     "elapsed": 3970,
     "status": "ok",
     "timestamp": 1650308919855,
     "user": {
      "displayName": "Rui Qin Ng",
      "userId": "06262937238615916408"
     },
     "user_tz": -480
    },
    "id": "sybdfIbK4ed1",
    "outputId": "5d0436b8-77b0-4cc7-c76c-fdd729d96888"
   },
   "outputs": [],
   "source": [
    "# Imports\n",
    "import json\n",
    "from math import radians\n",
    "\n",
    "import fuzzymatcher\n",
    "import numpy as np\n",
    "import pandas as pd\n",
    "from sklearn.metrics.pairwise import haversine_distances\n",
    "\n",
    "from google.colab import drive\n",
    "\n",
    "pd.options.display.max_rows = 999\n",
    "\n",
    "drive.mount('/gdrive')"
   ]
  },
  {
   "cell_type": "code",
   "execution_count": null,
   "metadata": {
    "colab": {
     "base_uri": "https://localhost:8080/",
     "height": 677
    },
    "executionInfo": {
     "elapsed": 813,
     "status": "ok",
     "timestamp": 1650309260908,
     "user": {
      "displayName": "Rui Qin Ng",
      "userId": "06262937238615916408"
     },
     "user_tz": -480
    },
    "id": "3c-KxtNf5IEj",
    "outputId": "1360a01b-93a7-4be7-ee4e-f1557630d070"
   },
   "outputs": [],
   "source": [
    "trips_df = pd.read_csv('/gdrive/My Drive/Tigyore/data/nyc_trips/nyc_trips_data/trips_processed.csv')\n",
    "trips_df = trips_df.loc[:, ['id', 'trip_seq_no', 'type', 'service', 'lat', 'long', 'location']]\n",
    "trips_df.head(20)"
   ]
  },
  {
   "cell_type": "markdown",
   "metadata": {
    "id": "uXbrLmPY5ooZ"
   },
   "source": [
    "# Map Subway Routes"
   ]
  },
  {
   "cell_type": "code",
   "execution_count": null,
   "metadata": {
    "colab": {
     "base_uri": "https://localhost:8080/",
     "height": 206
    },
    "executionInfo": {
     "elapsed": 409,
     "status": "ok",
     "timestamp": 1650309264069,
     "user": {
      "displayName": "Rui Qin Ng",
      "userId": "06262937238615916408"
     },
     "user_tz": -480
    },
    "id": "P6RHoY0b5SKU",
    "outputId": "48a3377e-7839-4bcf-efec-df7d11c41701"
   },
   "outputs": [],
   "source": [
    "subway_trips_df = trips_df.loc[trips_df['type'].str.lower() == 'subway']\n",
    "subway_trips_df.head()"
   ]
  },
  {
   "cell_type": "code",
   "execution_count": null,
   "metadata": {
    "colab": {
     "base_uri": "https://localhost:8080/",
     "height": 865
    },
    "executionInfo": {
     "elapsed": 331,
     "status": "ok",
     "timestamp": 1650309266127,
     "user": {
      "displayName": "Rui Qin Ng",
      "userId": "06262937238615916408"
     },
     "user_tz": -480
    },
    "id": "vdO-p5lb52yS",
    "outputId": "d50ee523-7cc2-4133-b4d9-7f3b2a4caeaf"
   },
   "outputs": [],
   "source": [
    "unique_services_df = subway_trips_df['service'].value_counts().reset_index() \\\n",
    "                        .drop(['service'], axis=1) \\\n",
    "                        .rename({'index': 'service'}, axis=1)\n",
    "unique_services_df"
   ]
  },
  {
   "cell_type": "code",
   "execution_count": null,
   "metadata": {
    "colab": {
     "base_uri": "https://localhost:8080/",
     "height": 927
    },
    "executionInfo": {
     "elapsed": 342,
     "status": "ok",
     "timestamp": 1650309270876,
     "user": {
      "displayName": "Rui Qin Ng",
      "userId": "06262937238615916408"
     },
     "user_tz": -480
    },
    "id": "rVnd8xb5597j",
    "outputId": "241ca26d-881d-4d3a-8f5e-5c850206b6ba"
   },
   "outputs": [],
   "source": [
    "subway_services_df = pd.read_csv('/gdrive/My Drive/Tigyore/data/nyc/nycSubwayServices.csv')\n",
    "subway_services_df"
   ]
  },
  {
   "cell_type": "code",
   "execution_count": null,
   "metadata": {
    "colab": {
     "base_uri": "https://localhost:8080/",
     "height": 865
    },
    "executionInfo": {
     "elapsed": 308,
     "status": "ok",
     "timestamp": 1650309305853,
     "user": {
      "displayName": "Rui Qin Ng",
      "userId": "06262937238615916408"
     },
     "user_tz": -480
    },
    "id": "c6_n2n516aoZ",
    "outputId": "641fbd35-896e-4d25-8aa2-6f3f5bf4a6fa"
   },
   "outputs": [],
   "source": [
    "subway_route_mapping_df = fuzzymatcher.fuzzy_left_join(unique_services_df, subway_services_df, left_on = \"service\", right_on = \"route_id\")\n",
    "subway_route_mapping_df"
   ]
  },
  {
   "cell_type": "code",
   "execution_count": null,
   "metadata": {
    "colab": {
     "base_uri": "https://localhost:8080/",
     "height": 206
    },
    "executionInfo": {
     "elapsed": 2291,
     "status": "ok",
     "timestamp": 1650309310894,
     "user": {
      "displayName": "Rui Qin Ng",
      "userId": "06262937238615916408"
     },
     "user_tz": -480
    },
    "id": "LdNWfQQHB5jW",
    "outputId": "c36b94b2-c50f-4ae2-c1f9-c64ba1e7924d"
   },
   "outputs": [],
   "source": [
    "final_subway_trips_df = subway_trips_df.merge(subway_route_mapping_df.loc[:, ['service', 'route_id']], how='left', on='service')\n",
    "final_subway_trips_df['route_id'] = final_subway_trips_df.apply(lambda row: row['route_id'] if pd.notna(row['route_id']) else row['service'], axis=1)\n",
    "\n",
    "final_subway_trips_df.head()"
   ]
  },
  {
   "cell_type": "code",
   "execution_count": null,
   "metadata": {
    "colab": {
     "base_uri": "https://localhost:8080/"
    },
    "executionInfo": {
     "elapsed": 4,
     "status": "ok",
     "timestamp": 1650309336560,
     "user": {
      "displayName": "Rui Qin Ng",
      "userId": "06262937238615916408"
     },
     "user_tz": -480
    },
    "id": "sbjC3S6YGay2",
    "outputId": "3460a5ab-c9d1-4036-a0aa-4fa7fd8ba2c9"
   },
   "outputs": [],
   "source": [
    "subway_trips_df.shape, final_subway_trips_df.shape"
   ]
  },
  {
   "cell_type": "code",
   "execution_count": null,
   "metadata": {
    "colab": {
     "base_uri": "https://localhost:8080/",
     "height": 112
    },
    "executionInfo": {
     "elapsed": 303,
     "status": "ok",
     "timestamp": 1650309594197,
     "user": {
      "displayName": "Rui Qin Ng",
      "userId": "06262937238615916408"
     },
     "user_tz": -480
    },
    "id": "BL263GZ1HeQy",
    "outputId": "bc8cfd31-632a-4d44-818c-b82d796d76d6"
   },
   "outputs": [],
   "source": [
    "final_subway_trips_df.loc[final_subway_trips_df['id'] == 20]"
   ]
  },
  {
   "cell_type": "markdown",
   "metadata": {
    "id": "V2NgXZ7s_p5K"
   },
   "source": [
    "# Map Train Stations"
   ]
  },
  {
   "cell_type": "code",
   "execution_count": null,
   "metadata": {
    "colab": {
     "base_uri": "https://localhost:8080/",
     "height": 206
    },
    "executionInfo": {
     "elapsed": 293,
     "status": "ok",
     "timestamp": 1650309343841,
     "user": {
      "displayName": "Rui Qin Ng",
      "userId": "06262937238615916408"
     },
     "user_tz": -480
    },
    "id": "or89DriSCKAm",
    "outputId": "270e256e-dd15-4b79-d451-197e900a670f"
   },
   "outputs": [],
   "source": [
    "train_stations_df = pd.read_csv('/gdrive/My Drive/Tigyore/data/nyc/nycSubwayEdges.csv')\n",
    "train_stations_df.head()"
   ]
  },
  {
   "cell_type": "code",
   "execution_count": null,
   "metadata": {
    "colab": {
     "base_uri": "https://localhost:8080/",
     "height": 1000
    },
    "executionInfo": {
     "elapsed": 3488,
     "status": "ok",
     "timestamp": 1650309720298,
     "user": {
      "displayName": "Rui Qin Ng",
      "userId": "06262937238615916408"
     },
     "user_tz": -480
    },
    "id": "WSPfdMCmEvTB",
    "outputId": "086b1123-1a8e-47db-98c5-d020098302f3"
   },
   "outputs": [],
   "source": [
    "subway_station_mapping_df = pd.DataFrame()\n",
    "total_unique = 0\n",
    "for route_id in final_subway_trips_df['route_id'].dropna().unique():\n",
    "    unique_stations_df = final_subway_trips_df.loc[final_subway_trips_df['route_id'] == route_id][['location', 'lat', 'long']] \\\n",
    "                            .drop_duplicates('location') \\\n",
    "                            .rename({'location': 'station_name'}, axis=1)\n",
    "    total_unique += unique_stations_df.shape[0]\n",
    "    unique_stops_df = train_stations_df.loc[train_stations_df['route_id'] == route_id][['route_id', 'stop_id', 'stop_name', 'stop_lat', 'stop_lon']].reset_index(drop=True)\n",
    "    mapping_df = fuzzymatcher.fuzzy_left_join(unique_stations_df, unique_stops_df, left_on = \"station_name\", right_on = \"stop_name\")\n",
    "\n",
    "    # find_nearest_station_for_neg_match_score\n",
    "    lat_lon = [(row['stop_lat'], row['stop_lon']) for _, row in unique_stops_df.iterrows()]\n",
    "    lat_lon = [(radians(l[0]), radians(l[1])) for l in lat_lon]\n",
    "    for row_idx, row in mapping_df.loc[(mapping_df['best_match_score'] < 0) | (mapping_df['best_match_score'].isna())].iterrows():\n",
    "        lat, lng = row['lat'], row['long']\n",
    "        idx = np.argmin(haversine_distances([(radians(lat), radians(lng))] + lat_lon)[0][1:])\n",
    "        mapping_df.loc[row_idx, 'route_id'] = unique_stops_df.loc[idx]['route_id']\n",
    "        mapping_df.loc[row_idx, 'stop_id'] = unique_stops_df.loc[idx]['stop_id']\n",
    "        mapping_df.loc[row_idx, 'stop_name'] = unique_stops_df.loc[idx]['stop_name']\n",
    "        mapping_df.loc[row_idx, 'stop_lat'] = unique_stops_df.loc[idx]['stop_lat']\n",
    "        mapping_df.loc[row_idx, 'stop_lon'] = unique_stops_df.loc[idx]['stop_lon']\n",
    "\n",
    "    subway_station_mapping_df = pd.concat([subway_station_mapping_df, mapping_df])\n",
    "\n",
    "subway_station_mapping_df.sort_values(['best_match_score'])"
   ]
  },
  {
   "cell_type": "code",
   "execution_count": null,
   "metadata": {
    "colab": {
     "base_uri": "https://localhost:8080/",
     "height": 206
    },
    "executionInfo": {
     "elapsed": 1355,
     "status": "ok",
     "timestamp": 1650309813732,
     "user": {
      "displayName": "Rui Qin Ng",
      "userId": "06262937238615916408"
     },
     "user_tz": -480
    },
    "id": "LyPYi2kq8L8m",
    "outputId": "80c96108-e1b7-43bf-d8c9-693a13954f83"
   },
   "outputs": [],
   "source": [
    "final_subway_trips_df = final_subway_trips_df.rename({'location': 'station_name'}, axis=1) \\\n",
    "    .merge(subway_station_mapping_df.loc[:, ['route_id', 'station_name', 'stop_id']], how='left', on=['route_id', 'station_name'])\n",
    "final_subway_trips_df['stop_id'] = final_subway_trips_df.apply(lambda row: row['stop_id'] if pd.notna(row['stop_id']) else row['station_name'], axis=1)\n",
    "final_subway_trips_df.head()"
   ]
  },
  {
   "cell_type": "code",
   "execution_count": null,
   "metadata": {
    "colab": {
     "base_uri": "https://localhost:8080/"
    },
    "executionInfo": {
     "elapsed": 4,
     "status": "ok",
     "timestamp": 1650309815014,
     "user": {
      "displayName": "Rui Qin Ng",
      "userId": "06262937238615916408"
     },
     "user_tz": -480
    },
    "id": "3qElRfce-rLL",
    "outputId": "95cb2be0-e81a-4a88-b508-8640bad1a371"
   },
   "outputs": [],
   "source": [
    "final_subway_trips_df.shape[0], subway_trips_df.shape[0]"
   ]
  },
  {
   "cell_type": "code",
   "execution_count": null,
   "metadata": {
    "id": "Rb_GSTWgIHSW"
   },
   "outputs": [],
   "source": [
    "final_subway_trips_df.to_csv('/gdrive/My Drive/Tigyore/data/nyc_trips/nyc_trips_mapped/nyc_trips_subway.csv', index=False)"
   ]
  },
  {
   "cell_type": "markdown",
   "metadata": {
    "id": "iL9AIfHu-xqH"
   },
   "source": [
    "# Map Bus Routes"
   ]
  },
  {
   "cell_type": "code",
   "execution_count": null,
   "metadata": {
    "colab": {
     "base_uri": "https://localhost:8080/",
     "height": 206
    },
    "executionInfo": {
     "elapsed": 393,
     "status": "ok",
     "timestamp": 1650311890569,
     "user": {
      "displayName": "Rui Qin Ng",
      "userId": "06262937238615916408"
     },
     "user_tz": -480
    },
    "id": "ndNkXZk8-xqJ",
    "outputId": "3a75ac38-a3f4-434a-a2b3-ed40470f26a7"
   },
   "outputs": [],
   "source": [
    "bus_trips_df = trips_df.loc[trips_df['type'].str.lower() == 'bus']\n",
    "bus_trips_df.head()"
   ]
  },
  {
   "cell_type": "code",
   "execution_count": null,
   "metadata": {
    "colab": {
     "base_uri": "https://localhost:8080/",
     "height": 206
    },
    "executionInfo": {
     "elapsed": 11,
     "status": "ok",
     "timestamp": 1650311890569,
     "user": {
      "displayName": "Rui Qin Ng",
      "userId": "06262937238615916408"
     },
     "user_tz": -480
    },
    "id": "gA4ASKYo-xqK",
    "outputId": "a90b01c6-dc4a-45e8-c045-0f056a55ccc9"
   },
   "outputs": [],
   "source": [
    "unique_services_df = bus_trips_df['service'].value_counts().reset_index() \\\n",
    "                        .drop(['service'], axis=1) \\\n",
    "                        .rename({'index': 'service'}, axis=1)\n",
    "unique_services_df.head()"
   ]
  },
  {
   "cell_type": "code",
   "execution_count": null,
   "metadata": {
    "colab": {
     "base_uri": "https://localhost:8080/",
     "height": 206
    },
    "executionInfo": {
     "elapsed": 11,
     "status": "ok",
     "timestamp": 1650311890570,
     "user": {
      "displayName": "Rui Qin Ng",
      "userId": "06262937238615916408"
     },
     "user_tz": -480
    },
    "id": "mzhmNpME-xqK",
    "outputId": "580745cb-9423-48b1-9614-5abee5a109cc"
   },
   "outputs": [],
   "source": [
    "all_routes_df = pd.read_csv('/gdrive/My Drive/Tigyore/data/nyc/bus_svc.csv')\n",
    "all_routes_df.head()"
   ]
  },
  {
   "cell_type": "code",
   "execution_count": null,
   "metadata": {
    "colab": {
     "base_uri": "https://localhost:8080/",
     "height": 1000
    },
    "executionInfo": {
     "elapsed": 693,
     "status": "ok",
     "timestamp": 1650311891759,
     "user": {
      "displayName": "Rui Qin Ng",
      "userId": "06262937238615916408"
     },
     "user_tz": -480
    },
    "id": "LtOTdxeM-xqL",
    "outputId": "3194ab08-b8dc-44e1-a4e8-b0b88cd178d2"
   },
   "outputs": [],
   "source": [
    "bus_route_mapping_df = fuzzymatcher.fuzzy_left_join(unique_services_df, all_routes_df, left_on = \"service\", right_on = \"bus_svc\")\n",
    "bus_route_mapping_df.sort_values('best_match_score')"
   ]
  },
  {
   "cell_type": "code",
   "execution_count": null,
   "metadata": {
    "colab": {
     "base_uri": "https://localhost:8080/",
     "height": 206
    },
    "executionInfo": {
     "elapsed": 13,
     "status": "ok",
     "timestamp": 1650311891760,
     "user": {
      "displayName": "Rui Qin Ng",
      "userId": "06262937238615916408"
     },
     "user_tz": -480
    },
    "id": "Px50PlKh_KwD",
    "outputId": "65f69cfd-eb77-4369-ce76-c78e4684c72a"
   },
   "outputs": [],
   "source": [
    "final_bus_trips_df = bus_trips_df.merge(bus_route_mapping_df.loc[:, ['service', 'bus_svc']], how='left', on='service')\n",
    "final_bus_trips_df['bus_svc'] = final_bus_trips_df.apply(lambda row: row['bus_svc'] if pd.notna(row['bus_svc']) else row['service'], axis=1)\n",
    "\n",
    "final_bus_trips_df.head()"
   ]
  },
  {
   "cell_type": "markdown",
   "metadata": {
    "id": "aSZUCHazK9by"
   },
   "source": [
    "# Map Bus Stops"
   ]
  },
  {
   "cell_type": "code",
   "execution_count": null,
   "metadata": {
    "colab": {
     "base_uri": "https://localhost:8080/",
     "height": 206
    },
    "executionInfo": {
     "elapsed": 7,
     "status": "ok",
     "timestamp": 1650311892263,
     "user": {
      "displayName": "Rui Qin Ng",
      "userId": "06262937238615916408"
     },
     "user_tz": -480
    },
    "id": "IrGshAZbK8DL",
    "outputId": "a920e5b4-2d9c-4055-efcd-0cdf490fa1ba"
   },
   "outputs": [],
   "source": [
    "bus_stops_df = pd.read_csv('/gdrive/My Drive/Tigyore/data/nyc/bus_routes.csv')\n",
    "bus_stops_df = bus_stops_df.iloc[:, :7]\n",
    "bus_stops_df.head()"
   ]
  },
  {
   "cell_type": "code",
   "execution_count": null,
   "metadata": {
    "colab": {
     "base_uri": "https://localhost:8080/",
     "height": 1000
    },
    "executionInfo": {
     "elapsed": 19765,
     "status": "ok",
     "timestamp": 1650311912023,
     "user": {
      "displayName": "Rui Qin Ng",
      "userId": "06262937238615916408"
     },
     "user_tz": -480
    },
    "id": "Fwo_0_wCKo7z",
    "outputId": "1c07d4c6-c7ed-4b93-954e-8cda5f66bcf1"
   },
   "outputs": [],
   "source": [
    "bus_stop_mapping_df = pd.DataFrame()\n",
    "\n",
    "for bus_svc in final_bus_trips_df['bus_svc'].dropna().unique():\n",
    "    unique_stops_df = final_bus_trips_df.loc[final_bus_trips_df['bus_svc'] == bus_svc][['location', 'lat', 'long']] \\\n",
    "                            .drop_duplicates('location') \\\n",
    "                            .rename({'location': 'stop_name'}, axis=1)\n",
    "    all_stops_df = bus_stops_df.loc[bus_stops_df['route_id'] == bus_svc][['route_id', 'origin_stop_id', 'origin_stop_name', 'origin_lat', 'origin_lon']].reset_index(drop=True)\n",
    "\n",
    "    if (unique_stops_df.shape[0] != 0) and (all_stops_df.shape[0] != 0):\n",
    "        mapping_df = fuzzymatcher.fuzzy_left_join(unique_stops_df, all_stops_df, left_on = \"stop_name\", right_on = \"origin_stop_name\")\n",
    "\n",
    "        # find_nearest_station_for_neg_match_score\n",
    "        lat_lon = [(row['origin_lat'], row['origin_lon']) for _, row in all_stops_df.iterrows()]\n",
    "        lat_lon = [(radians(l[0]), radians(l[1])) for l in lat_lon]\n",
    "        for row_idx, row in mapping_df.loc[(mapping_df['best_match_score'] < 0) | (mapping_df['best_match_score'].isna())].iterrows():\n",
    "            lat, lng = row['lat'], row['long']\n",
    "            idx = np.argmin(haversine_distances([(radians(lat), radians(lng))] + lat_lon)[0][1:])\n",
    "            mapping_df.loc[row_idx, 'route_id'] = all_stops_df.loc[idx]['route_id']\n",
    "            mapping_df.loc[row_idx, 'origin_stop_id'] = all_stops_df.loc[idx]['origin_stop_id']\n",
    "            mapping_df.loc[row_idx, 'origin_stop_name'] = all_stops_df.loc[idx]['origin_stop_name']\n",
    "            mapping_df.loc[row_idx, 'origin_lat'] = all_stops_df.loc[idx]['origin_lat']\n",
    "            mapping_df.loc[row_idx, 'origin_lon'] = all_stops_df.loc[idx]['origin_lon']\n",
    "        \n",
    "        bus_stop_mapping_df = pd.concat([bus_stop_mapping_df, mapping_df])\n",
    "\n",
    "bus_stop_mapping_df.sort_values(['best_match_score']).head(100)"
   ]
  },
  {
   "cell_type": "code",
   "execution_count": null,
   "metadata": {
    "colab": {
     "base_uri": "https://localhost:8080/",
     "height": 206
    },
    "executionInfo": {
     "elapsed": 18,
     "status": "ok",
     "timestamp": 1650311912024,
     "user": {
      "displayName": "Rui Qin Ng",
      "userId": "06262937238615916408"
     },
     "user_tz": -480
    },
    "id": "3pPquGw5NUC-",
    "outputId": "37c2052d-6ab3-47c4-f415-7a9dd3d992d7"
   },
   "outputs": [],
   "source": [
    "final_bus_trips_df = final_bus_trips_df.rename({'location': 'stop_name', 'bus_svc': 'route_id'}, axis=1) \\\n",
    "                        .merge(bus_stop_mapping_df.loc[:, ['route_id', 'stop_name', 'origin_stop_id']], how='left', on=['route_id', 'stop_name'])\n",
    "final_bus_trips_df['origin_stop_id'] = final_bus_trips_df.apply(lambda row: row['origin_stop_id'] if pd.notna(row['origin_stop_id']) else row['stop_name'], axis=1)\n",
    "final_bus_trips_df.head()"
   ]
  },
  {
   "cell_type": "code",
   "execution_count": null,
   "metadata": {
    "id": "HORpw3guPb6t"
   },
   "outputs": [],
   "source": [
    "final_bus_trips_df.to_csv('/gdrive/My Drive/Tigyore/data/nyc_trips/nyc_trips_mapped/nyc_trips_bus.csv', index=False)"
   ]
  },
  {
   "cell_type": "code",
   "execution_count": null,
   "metadata": {
    "id": "Qh3GrWKzPw8u"
   },
   "outputs": [],
   "source": []
  }
 ],
 "metadata": {
  "colab": {
   "collapsed_sections": [],
   "name": "4c. Trip Mapping.ipynb",
   "provenance": []
  },
  "kernelspec": {
   "display_name": "Python 3 (ipykernel)",
   "language": "python",
   "name": "python3"
  },
  "language_info": {
   "codemirror_mode": {
    "name": "ipython",
    "version": 3
   },
   "file_extension": ".py",
   "mimetype": "text/x-python",
   "name": "python",
   "nbconvert_exporter": "python",
   "pygments_lexer": "ipython3",
   "version": "3.9.5"
  }
 },
 "nbformat": 4,
 "nbformat_minor": 1
}
