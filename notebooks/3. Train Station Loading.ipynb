{
 "cells": [
  {
   "cell_type": "markdown",
   "metadata": {
    "id": "owRhnxW15t_w"
   },
   "source": [
    "## Install pyTigerGraph"
   ]
  },
  {
   "cell_type": "code",
   "execution_count": null,
   "metadata": {
    "colab": {
     "base_uri": "https://localhost:8080/"
    },
    "executionInfo": {
     "elapsed": 4498,
     "status": "ok",
     "timestamp": 1650421826089,
     "user": {
      "displayName": "Rachell Ng",
      "userId": "06812444445893564180"
     },
     "user_tz": -480
    },
    "id": "JmsrV-SNnx31",
    "outputId": "363f9290-7572-46dc-963a-48fb4ab2a3c0"
   },
   "outputs": [],
   "source": [
    "# Setup\n",
    "!pip install -U pyTigerGraph"
   ]
  },
  {
   "cell_type": "markdown",
   "metadata": {
    "id": "pSsJAzc_5yNN"
   },
   "source": [
    "## Add Imports and Establish Initial Connection"
   ]
  },
  {
   "cell_type": "code",
   "execution_count": null,
   "metadata": {
    "id": "vqpwQh1_noLK"
   },
   "outputs": [],
   "source": [
    "# Imports\n",
    "import json\n",
    "import pandas as pd\n",
    "\n",
    "from google.colab import drive\n",
    "import pyTigerGraph as tg\n",
    "\n",
    "drive.mount('/gdrive')\n",
    "\n",
    "# Connection parameters\n",
    "hostName = ''\n",
    "userName = ''\n",
    "password = ''\n",
    "conn = tg.TigerGraphConnection(host=hostName, username=userName, password=password)\n",
    "\n",
    "conn.graphname='TigyoreGraph'\n",
    "secret = conn.createSecret()\n",
    "authToken = conn.getToken(secret)\n",
    "authToken = authToken[0]\n",
    "conn = tg.TigerGraphConnection(host=hostName, graphname='TigyoreGraph', username=userName, password=password, apiToken=authToken)\n",
    "\n",
    "print('Connected')"
   ]
  },
  {
   "cell_type": "markdown",
   "metadata": {
    "id": "MTWWoepV6Dc0"
   },
   "source": [
    "## Create Loading Jobs"
   ]
  },
  {
   "cell_type": "markdown",
   "metadata": {
    "id": "eNDzz_y9T7US"
   },
   "source": [
    "## Subway Stations"
   ]
  },
  {
   "cell_type": "markdown",
   "metadata": {
    "id": "0tThZQrDGtkm"
   },
   "source": [
    "### Clean Raw Data"
   ]
  },
  {
   "cell_type": "code",
   "execution_count": null,
   "metadata": {
    "colab": {
     "base_uri": "https://localhost:8080/"
    },
    "executionInfo": {
     "elapsed": 6251,
     "status": "ok",
     "timestamp": 1650385552625,
     "user": {
      "displayName": "Rui Qin Ng",
      "userId": "06262937238615916408"
     },
     "user_tz": -480
    },
    "id": "uq499ygIG3gk",
    "outputId": "d43c0434-3d97-40d6-f628-cd5b2a053ad2"
   },
   "outputs": [],
   "source": [
    "# Load Datasets\n",
    "stop_times = pd.read_csv(\"/gdrive/My Drive/Tigyore/data/nyc/raw/stop_times.txt\", sep=\",\")\n",
    "stops = pd.read_csv(\"/gdrive/My Drive/Tigyore/data/nyc/raw/stops.txt\", sep=\",\")\n",
    "stop_seq = pd.merge(stop_times, stops, how='left', left_on='stop_id', right_on='stop_id')\n",
    "\n",
    "# Get Route ID from Trip ID\n",
    "stop_seq['route_id'] = stop_seq['trip_id'].str.split('\\.\\.')\n",
    "stop_seq['route_id'] = stop_seq['route_id'].apply(lambda x: x[0])\n",
    "stop_seq['route_id'] = stop_seq['route_id'].str.split('_')\n",
    "stop_seq['route_id'] = stop_seq['route_id'].apply(lambda x: x[-1])\n",
    "\n",
    "# Filter for Trips that have the longest sequence length for each Route\n",
    "seq_len = stop_seq.groupby('trip_id').agg({'stop_sequence':lambda x: len(list(x))}).reset_index().rename(columns={'stop_sequence':'seq_len'})\n",
    "max_seq_len_trips = pd.merge(stop_seq, seq_len, how='left', left_on='trip_id', right_on='trip_id')[['route_id', 'trip_id', 'seq_len']]\n",
    "longest_trips = max_seq_len_trips.loc[max_seq_len_trips.reset_index().groupby(['route_id'])['seq_len'].idxmax()]['trip_id'].to_list()\n",
    "print(longest_trips)\n",
    "stop_seq = stop_seq[stop_seq['trip_id'].isin(longest_trips)]\n",
    "\n",
    "# Save Datasets to csv\n",
    "# stop_seq[['stop_id','stop_name','stop_lat', 'stop_lon']].drop_duplicates().to_csv(\"/gdrive/My Drive/Tigyore/data/nyc/nycSubwayStations.csv\", index=False)\n",
    "# stop_seq[['route_id']].drop_duplicates().to_csv(\"/gdrive/My Drive/Tigyore/data/nyc/nycSubwayServices.csv\", index=False)\n",
    "# stop_seq[['route_id', 'stop_id', 'stop_sequence', 'stop_name', 'stop_lat', 'stop_lon']].drop_duplicates().to_csv(\"/gdrive/My Drive/Tigyore/data/nyc/nycSubwayEdges.csv\", index=False)\n",
    "\n",
    "stop_seq[['trip_id', 'stop_id','stop_name','stop_lat', 'stop_lon', 'route_id', 'stop_sequence']].head(3)"
   ]
  },
  {
   "cell_type": "markdown",
   "metadata": {
    "id": "tSgdtPt6UTgr"
   },
   "source": [
    "### Create Load Data Job"
   ]
  },
  {
   "cell_type": "markdown",
   "metadata": {
    "id": "M7Y081TD6Xh5"
   },
   "source": [
    "Here it's important to note that the `$0`, `$1` values line up with the columns of your data."
   ]
  },
  {
   "cell_type": "code",
   "execution_count": null,
   "metadata": {
    "colab": {
     "base_uri": "https://localhost:8080/"
    },
    "executionInfo": {
     "elapsed": 24455,
     "status": "ok",
     "timestamp": 1650385577069,
     "user": {
      "displayName": "Rui Qin Ng",
      "userId": "06262937238615916408"
     },
     "user_tz": -480
    },
    "id": "DUfeC9URWMiS",
    "outputId": "86d86f5a-f50a-4db3-d34a-5b0b35ad61b5"
   },
   "outputs": [],
   "source": [
    "results = conn.gsql('''\n",
    "USE GRAPH TigyoreGraph\n",
    "SHOW VERTEX TrainStation\n",
    "SHOW VERTEX TrainService\n",
    "SHOW EDGE serve\n",
    "''')\n",
    "\n",
    "print(results)"
   ]
  },
  {
   "cell_type": "code",
   "execution_count": null,
   "metadata": {
    "colab": {
     "base_uri": "https://localhost:8080/"
    },
    "executionInfo": {
     "elapsed": 6542,
     "status": "ok",
     "timestamp": 1650385583597,
     "user": {
      "displayName": "Rui Qin Ng",
      "userId": "06262937238615916408"
     },
     "user_tz": -480
    },
    "id": "22W6W58idFW5",
    "outputId": "c3e47832-6bb1-46b8-ee92-fbdc736b36b2"
   },
   "outputs": [],
   "source": [
    "station_results = conn.gsql('''\n",
    "  USE GRAPH TigyoreGraph\n",
    "  BEGIN\n",
    "  CREATE LOADING JOB load_subway_stations FOR GRAPH TigyoreGraph {\n",
    "  DEFINE FILENAME MyDataSource;\n",
    "  LOAD MyDataSource TO VERTEX TrainStation VALUES($0, $1, $2, $3) USING SEPARATOR=\",\", HEADER=\"true\", EOL=\"\\\\n\", QUOTE=\"double\";\n",
    "  }\n",
    "  END\n",
    "  ''')\n",
    "\n",
    "service_results = conn.gsql('''\n",
    "  USE GRAPH TigyoreGraph\n",
    "  BEGIN\n",
    "  CREATE LOADING JOB load_subway_services FOR GRAPH TigyoreGraph {\n",
    "  DEFINE FILENAME MyDataSource;\n",
    "  LOAD MyDataSource TO VERTEX TrainService VALUES($0) USING SEPARATOR=\",\", HEADER=\"true\", EOL=\"\\\\n\", QUOTE=\"double\";\n",
    "  }\n",
    "  END\n",
    "  ''')\n",
    "\n",
    "edge_results = conn.gsql('''\n",
    "  USE GRAPH TigyoreGraph\n",
    "  BEGIN\n",
    "  CREATE LOADING JOB load_subway_edges FOR GRAPH TigyoreGraph {\n",
    "  DEFINE FILENAME MyDataSource;\n",
    "  LOAD MyDataSource TO EDGE serve VALUES($0 TrainService, $1 TrainStation, $2) USING SEPARATOR=\",\", HEADER=\"true\", EOL=\"\\\\n\", QUOTE=\"double\";\n",
    "  }\n",
    "  END\n",
    "  ''')\n",
    "print(station_results, service_results, edge_results)"
   ]
  },
  {
   "cell_type": "code",
   "execution_count": null,
   "metadata": {
    "colab": {
     "base_uri": "https://localhost:8080/"
    },
    "executionInfo": {
     "elapsed": 1094,
     "status": "ok",
     "timestamp": 1650385584516,
     "user": {
      "displayName": "Rui Qin Ng",
      "userId": "06262937238615916408"
     },
     "user_tz": -480
    },
    "id": "59b2NhAzwuFi",
    "outputId": "e8e1666e-b20f-460a-b823-76a52e452dbc"
   },
   "outputs": [],
   "source": [
    "results = conn.gsql('''\n",
    "USE GRAPH TigyoreGraph\n",
    "SHOW JOB load_subway_stations\n",
    "SHOW JOB load_subway_services\n",
    "SHOW JOB load_subway_edges\n",
    "''')\n",
    "\n",
    "print(results)"
   ]
  },
  {
   "cell_type": "markdown",
   "metadata": {
    "id": "Nm8hvEJo7YqM"
   },
   "source": [
    "### Load Data"
   ]
  },
  {
   "cell_type": "code",
   "execution_count": null,
   "metadata": {
    "colab": {
     "base_uri": "https://localhost:8080/"
    },
    "executionInfo": {
     "elapsed": 929,
     "status": "ok",
     "timestamp": 1650385585438,
     "user": {
      "displayName": "Rui Qin Ng",
      "userId": "06262937238615916408"
     },
     "user_tz": -480
    },
    "id": "450w8nYGllZQ",
    "outputId": "ec75afb6-a753-4565-d852-5398daadff65"
   },
   "outputs": [],
   "source": [
    "# Load the subway station file with the 'load_train_stations' job\n",
    "data_file = '/gdrive/My Drive/Tigyore/data/nyc/nycSubwayStations.csv'\n",
    "results = conn.uploadFile(data_file, fileTag='MyDataSource', jobName='load_subway_stations')\n",
    "print(json.dumps(results, indent=2))"
   ]
  },
  {
   "cell_type": "code",
   "execution_count": null,
   "metadata": {
    "colab": {
     "base_uri": "https://localhost:8080/"
    },
    "executionInfo": {
     "elapsed": 1358,
     "status": "ok",
     "timestamp": 1650385586794,
     "user": {
      "displayName": "Rui Qin Ng",
      "userId": "06262937238615916408"
     },
     "user_tz": -480
    },
    "id": "KscT8sOWZKh0",
    "outputId": "bbd7b35d-0e6c-48fb-b75d-9e8d818a592d"
   },
   "outputs": [],
   "source": [
    "# Load the subway service file with the 'load_subway_services' job\n",
    "data_file = '/gdrive/My Drive/Tigyore/data/nyc/nycSubwayServices.csv'\n",
    "results = conn.uploadFile(data_file, fileTag='MyDataSource', jobName='load_subway_services')\n",
    "print(json.dumps(results, indent=2))"
   ]
  },
  {
   "cell_type": "code",
   "execution_count": null,
   "metadata": {
    "colab": {
     "base_uri": "https://localhost:8080/"
    },
    "executionInfo": {
     "elapsed": 1362,
     "status": "ok",
     "timestamp": 1650385588152,
     "user": {
      "displayName": "Rui Qin Ng",
      "userId": "06262937238615916408"
     },
     "user_tz": -480
    },
    "id": "yA7ngBVq9J75",
    "outputId": "6c01a226-1952-4359-9e73-af17e5a76033"
   },
   "outputs": [],
   "source": [
    "# Load the subway edges file with the 'load_subway_edges' job\n",
    "data_file = '/gdrive/My Drive/Tigyore/data/nyc/nycSubwayEdges.csv'\n",
    "results = conn.uploadFile(data_file, fileTag='MyDataSource', jobName='load_subway_edges')\n",
    "print(json.dumps(results, indent=2))"
   ]
  },
  {
   "cell_type": "code",
   "execution_count": null,
   "metadata": {
    "id": "n_8CxxFVol7d"
   },
   "outputs": [],
   "source": []
  }
 ],
 "metadata": {
  "colab": {
   "collapsed_sections": [],
   "name": "3. Train Station Loading",
   "provenance": [
    {
     "file_id": "11MEnB6TLKgYxZg_UfgTtN3Rfhie4rDw6",
     "timestamp": 1650014982649
    },
    {
     "file_id": "1-OViyRfSgkDjoFP5CVMYrqwOuZvM0n6q",
     "timestamp": 1650003951507
    },
    {
     "file_id": "1kKE5lPaJ2s8gX1-G_0AB0gIgASQMxt0I",
     "timestamp": 1649994131860
    },
    {
     "file_id": "11aNgxPzbLHG9UCu9qZ2XlX0B5j7-tqvQ",
     "timestamp": 1649868226865
    },
    {
     "file_id": "1JhYcnGVWT51KswcXZzyPzKqCoPP5htcC",
     "timestamp": 1649698260207
    },
    {
     "file_id": "1k5QkLupaKnOIRrq3Aj1E82mtkT9uQZhO",
     "timestamp": 1628101159582
    }
   ]
  },
  "kernelspec": {
   "display_name": "Python 3 (ipykernel)",
   "language": "python",
   "name": "python3"
  },
  "language_info": {
   "codemirror_mode": {
    "name": "ipython",
    "version": 3
   },
   "file_extension": ".py",
   "mimetype": "text/x-python",
   "name": "python",
   "nbconvert_exporter": "python",
   "pygments_lexer": "ipython3",
   "version": "3.9.5"
  }
 },
 "nbformat": 4,
 "nbformat_minor": 1
}
