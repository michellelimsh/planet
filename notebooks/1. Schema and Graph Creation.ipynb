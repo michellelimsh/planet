{
 "cells": [
  {
   "cell_type": "markdown",
   "metadata": {
    "id": "owRhnxW15t_w"
   },
   "source": [
    "## Install pyTigerGraph"
   ]
  },
  {
   "cell_type": "code",
   "execution_count": null,
   "metadata": {
    "colab": {
     "base_uri": "https://localhost:8080/"
    },
    "executionInfo": {
     "elapsed": 6444,
     "status": "ok",
     "timestamp": 1650123125559,
     "user": {
      "displayName": "Rui Qin Ng",
      "userId": "06262937238615916408"
     },
     "user_tz": -480
    },
    "id": "JmsrV-SNnx31",
    "outputId": "6160e8cf-2c35-4e7f-bab8-e8eae7594c9f"
   },
   "outputs": [],
   "source": [
    "# Setup\n",
    "!pip install -U pyTigerGraph"
   ]
  },
  {
   "cell_type": "markdown",
   "metadata": {
    "id": "pSsJAzc_5yNN"
   },
   "source": [
    "## Add Imports and Establish Initial Connection"
   ]
  },
  {
   "cell_type": "code",
   "execution_count": null,
   "metadata": {
    "colab": {
     "base_uri": "https://localhost:8080/"
    },
    "executionInfo": {
     "elapsed": 821,
     "status": "ok",
     "timestamp": 1650123136972,
     "user": {
      "displayName": "Rui Qin Ng",
      "userId": "06262937238615916408"
     },
     "user_tz": -480
    },
    "id": "vqpwQh1_noLK",
    "outputId": "860a15da-0767-48a9-f022-c3efd6f12388"
   },
   "outputs": [],
   "source": [
    "# Imports\n",
    "import pyTigerGraph as tg\n",
    "import json\n",
    "import pandas as pd\n",
    "\n",
    "# Connection parameters\n",
    "hostName = ''\n",
    "userName = ''\n",
    "password = ''\n",
    "\n",
    "conn = tg.TigerGraphConnection(host=hostName, username=userName, password=password)\n",
    "\n",
    "print('Connected')"
   ]
  },
  {
   "cell_type": "markdown",
   "metadata": {
    "id": "SDPUKGDc55bJ"
   },
   "source": [
    "## Define and Publish the Schema"
   ]
  },
  {
   "cell_type": "code",
   "execution_count": null,
   "metadata": {
    "colab": {
     "base_uri": "https://localhost:8080/"
    },
    "executionInfo": {
     "elapsed": 1358,
     "status": "ok",
     "timestamp": 1650123256154,
     "user": {
      "displayName": "Rui Qin Ng",
      "userId": "06262937238615916408"
     },
     "user_tz": -480
    },
    "id": "tbLUKiA4oSKX",
    "outputId": "ae124215-ab17-4c07-b33f-85b2f62dea77"
   },
   "outputs": [],
   "source": [
    "# DEFINE / CREATE ALL EDGES AND VERTICES \n",
    "results = conn.gsql(\"\"\"\n",
    "  USE GLOBAL\n",
    "  CREATE VERTEX BusService (PRIMARY_ID name STRING) WITH primary_id_as_attribute=\"true\"\n",
    "  CREATE VERTEX BusStop (PRIMARY_ID id UINT, name STRING, latitude FLOAT, longitude FLOAT) WITH primary_id_as_attribute=\"true\"\n",
    "  CREATE VERTEX TrainService (PRIMARY_ID name STRING) WITH primary_id_as_attribute=\"true\"\n",
    "  CREATE VERTEX TrainStation (PRIMARY_ID code STRING, name STRING, latitude FLOAT, longitude FLOAT) WITH primary_id_as_attribute=\"true\"\n",
    "  CREATE DIRECTED EDGE serve (From BusService, To BusStop | From TrainService, To TrainStation, service_seq_no UINT)\n",
    "  \n",
    "  CREATE VERTEX Location (PRIMARY_ID id UINT, address STRING, latitude FLOAT, longitude FLOAT)\n",
    "  CREATE VERTEX Trip (PRIMARY_ID id UINT, start_time DATETIME, end_time DATETIME) WITH primary_id_as_attribute=\"true\"\n",
    "  CREATE UNDIRECTED EDGE waypoint (From Trip, To BusStop | From Trip, To TrainStation | From Trip, To Location, trip_seq_no UINT, is_transit_mode BOOL)\n",
    "  CREATE UNDIRECTED EDGE utilise (From Trip, To BusService | From Trip, To TrainService, from_trip_seq_no UINT, to_trip_seq_no UINT)\n",
    "\"\"\")\n",
    "print(results)"
   ]
  },
  {
   "cell_type": "markdown",
   "metadata": {
    "id": "bMz6fxfx59Xz"
   },
   "source": [
    "## Create the Graph"
   ]
  },
  {
   "cell_type": "code",
   "execution_count": null,
   "metadata": {
    "colab": {
     "base_uri": "https://localhost:8080/"
    },
    "executionInfo": {
     "elapsed": 12021,
     "status": "ok",
     "timestamp": 1650123270644,
     "user": {
      "displayName": "Rui Qin Ng",
      "userId": "06262937238615916408"
     },
     "user_tz": -480
    },
    "id": "-cgC8b7OcZDd",
    "outputId": "894f44dc-36a1-4984-b82b-ab39450e3834"
   },
   "outputs": [],
   "source": [
    "results = conn.gsql('CREATE GRAPH TigyoreGraph(BusService, BusStop, TrainService, TrainStation, Location, serve, Trip, waypoint, utilise)')\n",
    "\n",
    "print(results)"
   ]
  },
  {
   "cell_type": "code",
   "execution_count": null,
   "metadata": {
    "colab": {
     "base_uri": "https://localhost:8080/"
    },
    "executionInfo": {
     "elapsed": 28354,
     "status": "ok",
     "timestamp": 1650123336674,
     "user": {
      "displayName": "Rui Qin Ng",
      "userId": "06262937238615916408"
     },
     "user_tz": -480
    },
    "id": "SbxyEaptc2Ri",
    "outputId": "7d51cc93-f1d7-423c-b71e-32878e776bcc"
   },
   "outputs": [],
   "source": [
    "conn.graphname='TigyoreGraph'\n",
    "secret = conn.createSecret()\n",
    "authToken = conn.getToken(secret)\n",
    "authToken = authToken[0]\n",
    "print(authToken)\n",
    "\n",
    "conn = tg.TigerGraphConnection(host=hostName, graphname='TigyoreGraph', username=userName, password=password, apiToken=authToken)"
   ]
  },
  {
   "cell_type": "code",
   "execution_count": null,
   "metadata": {
    "id": "E8LePQlwWrs5"
   },
   "outputs": [],
   "source": []
  }
 ],
 "metadata": {
  "colab": {
   "collapsed_sections": [],
   "name": "1. Schema and Graph Creation",
   "provenance": [
    {
     "file_id": "11aNgxPzbLHG9UCu9qZ2XlX0B5j7-tqvQ",
     "timestamp": 1650095529604
    },
    {
     "file_id": "1JhYcnGVWT51KswcXZzyPzKqCoPP5htcC",
     "timestamp": 1649698260207
    },
    {
     "file_id": "1k5QkLupaKnOIRrq3Aj1E82mtkT9uQZhO",
     "timestamp": 1628101159582
    }
   ]
  },
  "kernelspec": {
   "display_name": "Python 3 (ipykernel)",
   "language": "python",
   "name": "python3"
  },
  "language_info": {
   "codemirror_mode": {
    "name": "ipython",
    "version": 3
   },
   "file_extension": ".py",
   "mimetype": "text/x-python",
   "name": "python",
   "nbconvert_exporter": "python",
   "pygments_lexer": "ipython3",
   "version": "3.9.5"
  }
 },
 "nbformat": 4,
 "nbformat_minor": 1
}
