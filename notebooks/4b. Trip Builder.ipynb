{
 "cells": [
  {
   "cell_type": "markdown",
   "metadata": {
    "id": "owRhnxW15t_w"
   },
   "source": [
    "## Install Packages"
   ]
  },
  {
   "cell_type": "code",
   "execution_count": null,
   "metadata": {
    "colab": {
     "base_uri": "https://localhost:8080/"
    },
    "executionInfo": {
     "elapsed": 6255,
     "status": "ok",
     "timestamp": 1650300236398,
     "user": {
      "displayName": "Benita Neo",
      "userId": "05522584819975557693"
     },
     "user_tz": -480
    },
    "id": "JmsrV-SNnx31",
    "outputId": "3841e00e-6532-4aa1-8ed6-fe3aa0895123"
   },
   "outputs": [],
   "source": [
    "# Setup\n",
    "!pip install -U pyTigerGraph googlemaps"
   ]
  },
  {
   "cell_type": "markdown",
   "metadata": {
    "id": "pSsJAzc_5yNN"
   },
   "source": [
    "## Add Imports and Establish Initial Connection"
   ]
  },
  {
   "cell_type": "code",
   "execution_count": null,
   "metadata": {
    "colab": {
     "base_uri": "https://localhost:8080/"
    },
    "executionInfo": {
     "elapsed": 26339,
     "status": "ok",
     "timestamp": 1650300267892,
     "user": {
      "displayName": "Benita Neo",
      "userId": "05522584819975557693"
     },
     "user_tz": -480
    },
    "id": "vqpwQh1_noLK",
    "outputId": "db820461-6074-4747-9da7-23301b3dfb95"
   },
   "outputs": [],
   "source": [
    "# Imports\n",
    "import os\n",
    "import pandas as pd\n",
    "from datetime import datetime\n",
    "from getpass import getpass\n",
    "import json\n",
    "import time\n",
    "\n",
    "from google.colab import drive\n",
    "import googlemaps\n",
    "import pandas as pd\n",
    "import pyTigerGraph as tg\n",
    "import requests\n",
    "\n",
    "drive.mount('/gdrive')"
   ]
  },
  {
   "cell_type": "code",
   "execution_count": null,
   "metadata": {
    "colab": {
     "base_uri": "https://localhost:8080/"
    },
    "executionInfo": {
     "elapsed": 28169,
     "status": "ok",
     "timestamp": 1650300302018,
     "user": {
      "displayName": "Benita Neo",
      "userId": "05522584819975557693"
     },
     "user_tz": -480
    },
    "id": "dZy9cXOYfrct",
    "outputId": "a16da20b-6b41-43fb-9405-d8a5fe457c04"
   },
   "outputs": [],
   "source": [
    "# Connection parameters\n",
    "hostName = ''\n",
    "userName = ''\n",
    "password = ''\n",
    "conn = tg.TigerGraphConnection(host=hostName, username=userName, password=password)\n",
    "\n",
    "conn.graphname='TigyoreGraph'\n",
    "secret = conn.createSecret()\n",
    "authToken = conn.getToken(secret)\n",
    "authToken = authToken[0]\n",
    "conn = tg.TigerGraphConnection(host=hostName, graphname='TigyoreGraph', username=userName, password=password, apiToken=authToken)\n",
    "\n",
    "print('Connected')"
   ]
  },
  {
   "cell_type": "markdown",
   "metadata": {
    "id": "iZF2m6T7mq3Z"
   },
   "source": [
    "# Configurations\n",
    "> Main Parameters / Constants to be maintained in this notebook :)"
   ]
  },
  {
   "cell_type": "code",
   "execution_count": null,
   "metadata": {
    "id": "_48o1pXNmqcG"
   },
   "outputs": [],
   "source": [
    "## Google Colab / API Keys\n",
    "apikey = ''\n",
    "\n",
    "## Main Directories\n",
    "GDRIVE_DIR = \"/gdrive/My Drive/Tigyore\"\n",
    "DATA_DIR = os.path.join(GDRIVE_DIR, 'data')\n",
    "\n",
    "\n",
    "## My Files to be loaded\n",
    "CLEANED_TRIPS_PATH = os.path.join(DATA_DIR, 'nyc_trips', 'cleaned_trips.csv')\n",
    "RESULTS_PATH = os.path.join(DATA_DIR, 'nyc_trips','results.csv')\n",
    "DIRECTIONS_JSON_PATH = os.path.join(DATA_DIR, 'nyc_trips', 'nyc_trips_data', 'nyc_trips_directions_response.json')\n",
    "TRIPS_PROCESSED_PATH = os.path.join(DATA_DIR, 'nyc_trips', 'nyc_trips_data', 'trips_processed.csv')"
   ]
  },
  {
   "cell_type": "markdown",
   "metadata": {
    "id": "Bimgb2o7nl4Q"
   },
   "source": [
    "## Documentation \n",
    "> Sample codes for reference\n",
    "\n",
    "```python\n",
    "# help(googlemaps.directions)\n",
    " directions_dict = get_sg_transit_directions('Tanah Merah Ferry Road', 'DUO Tower', '2022-04-16 14:00:00 +0800', API_KEY)\n",
    "# directions_dict\n",
    " with open('/gdrive/My Drive/Tigyore/data/sample_directions_response.json', 'w') as f:\n",
    "     f.write(json.dumps(directions_dict))\n",
    "```\n",
    "\n",
    "```python\n",
    "# API_KEY = getpass('Enter Google API Key:')\n",
    "\n",
    "# API_KEY[:5] + '...'\n",
    "```\n",
    "\n",
    "```python\n",
    "# https://towardsdatascience.com/geocoding-singapore-coordinates-onemap-api-3e1542bf26f7\n",
    "def get_sg_lat_lng_coordinates(address):\n",
    "    req = requests.get('https://developers.onemap.sg/commonapi/search?searchVal='+address+'&returnGeom=Y&getAddrDetails=Y&pageNum=1')\n",
    "    resultsdict = eval(req.text)\n",
    "    if len(resultsdict['results'])>0:\n",
    "        return resultsdict['results'][0]['LATITUDE'], resultsdict['results'][0]['LONGITUDE']\n",
    "    else:\n",
    "        pass\n",
    "```\n",
    "\n",
    "```python\n",
    "# https://github.com/googlemaps/google-maps-services-python\n",
    "def get_sg_transit_directions(origin: str, destination: str, departure_time: str, api_key: str) -> dict:\n",
    "    gmaps = googlemaps.Client(key=api_key)\n",
    "\n",
    "    origin = get_sg_lat_lng_coordinates(origin)\n",
    "    destination = get_sg_lat_lng_coordinates(destination)\n",
    "\n",
    "    departure_time = datetime.strptime(departure_time, '%Y-%m-%d %H:%M:%S %z')\n",
    "\n",
    "    directions_result = gmaps.directions(origin,\n",
    "                                         destination,\n",
    "                                         mode='transit',\n",
    "                                         language='en',\n",
    "                                         region='sg',\n",
    "                                         departure_time=departure_time)\n",
    "    return directions_result\n",
    "```"
   ]
  },
  {
   "cell_type": "markdown",
   "metadata": {
    "id": "EqncngISoEs2"
   },
   "source": [
    "## Code Starts Here: Preprocessing Loaded Data"
   ]
  },
  {
   "cell_type": "code",
   "execution_count": null,
   "metadata": {
    "id": "lBGAZ5HyQWbt"
   },
   "outputs": [],
   "source": [
    "def get_nyc_transit_directions(origin: tuple, destination: tuple, departure_time: str, api_key: str) -> dict:\n",
    "    gmaps = googlemaps.Client(key=api_key)\n",
    "\n",
    "    #departure_time = datetime.strptime(departure_time, '%Y-%m-%d %H:%M:%S %z')\n",
    "    departure_time = pd.to_datetime(departure_time)\n",
    "    #departure_time = time.mktime(departure_time.timetuple())\n",
    "    directions_result = gmaps.directions(origin,\n",
    "                                         destination,\n",
    "                                         mode='transit',\n",
    "                                         language='en',\n",
    "                                         region='us',\n",
    "                                         departure_time=departure_time)\n",
    "    return directions_result"
   ]
  },
  {
   "cell_type": "markdown",
   "metadata": {
    "id": "MrCM4e5WoVKt"
   },
   "source": [
    "### Loaded Data"
   ]
  },
  {
   "cell_type": "code",
   "execution_count": null,
   "metadata": {
    "id": "vX9zh55gOIC0"
   },
   "outputs": [],
   "source": [
    "trip_df = pd.read_csv(CLEANED_TRIPS_PATH)"
   ]
  },
  {
   "cell_type": "code",
   "execution_count": null,
   "metadata": {
    "colab": {
     "base_uri": "https://localhost:8080/",
     "height": 206
    },
    "executionInfo": {
     "elapsed": 4,
     "status": "ok",
     "timestamp": 1650209303090,
     "user": {
      "displayName": "Benita Neo",
      "userId": "05522584819975557693"
     },
     "user_tz": -480
    },
    "id": "WD3n-V-gOl4L",
    "outputId": "625e00b7-eb4b-479a-ffde-52b39a13d27a"
   },
   "outputs": [],
   "source": [
    "trip_df.head()"
   ]
  },
  {
   "cell_type": "code",
   "execution_count": null,
   "metadata": {
    "colab": {
     "base_uri": "https://localhost:8080/"
    },
    "executionInfo": {
     "elapsed": 342,
     "status": "ok",
     "timestamp": 1650209307316,
     "user": {
      "displayName": "Benita Neo",
      "userId": "05522584819975557693"
     },
     "user_tz": -480
    },
    "id": "qRgjoRcwyPlb",
    "outputId": "51dcfa33-dfe0-4827-e3d0-2acf909148eb"
   },
   "outputs": [],
   "source": [
    "trip_df.dtypes"
   ]
  },
  {
   "cell_type": "markdown",
   "metadata": {
    "id": "nkXPfhGAp52v"
   },
   "source": [
    "## Warning: LONG FUNCTION TO RUN - DO NOT RERUN"
   ]
  },
  {
   "cell_type": "code",
   "execution_count": null,
   "metadata": {
    "id": "NYj-HwKrJYSQ"
   },
   "outputs": [],
   "source": [
    "# ## Returns a series\n",
    "# directions_dct = trip_df.apply(\n",
    "#     lambda x: get_nyc_transit_directions(\n",
    "#         (x['pickup_latitude'],x['pickup_longitude']), \n",
    "#         (x['dropoff_latitude'],x['dropoff_longitude']), \n",
    "#         x['pickup_datetime'], \n",
    "#         apikey\n",
    "#         )\n",
    "#     , axis=1)"
   ]
  },
  {
   "cell_type": "code",
   "execution_count": null,
   "metadata": {
    "colab": {
     "base_uri": "https://localhost:8080/"
    },
    "executionInfo": {
     "elapsed": 335,
     "status": "ok",
     "timestamp": 1650215257096,
     "user": {
      "displayName": "Benita Neo",
      "userId": "05522584819975557693"
     },
     "user_tz": -480
    },
    "id": "4tppiDswLY45",
    "outputId": "412ce931-f565-4812-9997-0595e40bfe3c"
   },
   "outputs": [],
   "source": [
    "# len(directions_dct)"
   ]
  },
  {
   "cell_type": "code",
   "execution_count": null,
   "metadata": {
    "id": "Io4-RoMxgEPm"
   },
   "outputs": [],
   "source": [
    "## Output with index for future disassembling\n",
    "## Export to CSV\n",
    "results_df = pd.DataFrame(directions_dct).reset_index()\n",
    "results_df.to_csv(RESULTS_PATH,index=False)\n",
    "\n",
    "## Export to JSON\n",
    "directions_dct = results_df.set_index('index').to_dict()['results']\n",
    "with open(DIRECTIONS_JSON_PATH, 'w') as f:\n",
    "    f.write(json.dumps(directions_dct))"
   ]
  },
  {
   "cell_type": "code",
   "execution_count": null,
   "metadata": {
    "colab": {
     "base_uri": "https://localhost:8080/",
     "height": 424
    },
    "executionInfo": {
     "elapsed": 322,
     "status": "ok",
     "timestamp": 1650218694080,
     "user": {
      "displayName": "Benita Neo",
      "userId": "05522584819975557693"
     },
     "user_tz": -480
    },
    "id": "6jloKZqFkwxc",
    "outputId": "ee5b97ec-30e4-4e57-ee0e-b4470a74604c"
   },
   "outputs": [],
   "source": [
    "results_df "
   ]
  },
  {
   "cell_type": "markdown",
   "metadata": {
    "id": "AznLe98vmUiT"
   },
   "source": [
    "# Post processing starts here :(\n"
   ]
  },
  {
   "cell_type": "code",
   "execution_count": null,
   "metadata": {
    "id": "OVWKmfq7mb7X"
   },
   "outputs": [],
   "source": [
    "directions_dict = dict()\n",
    "with open(DIRECTIONS_JSON_PATH, 'r') as f:\n",
    "    directions_dict = json.loads(f.readlines()[0])"
   ]
  },
  {
   "cell_type": "code",
   "execution_count": null,
   "metadata": {
    "colab": {
     "base_uri": "https://localhost:8080/"
    },
    "executionInfo": {
     "elapsed": 343,
     "status": "ok",
     "timestamp": 1650300835892,
     "user": {
      "displayName": "Benita Neo",
      "userId": "05522584819975557693"
     },
     "user_tz": -480
    },
    "id": "3M9sZ626mb4h",
    "outputId": "425aa144-ba44-4aec-f11e-b70648dc56de"
   },
   "outputs": [],
   "source": [
    "from pprint import pprint\n",
    "pprint(directions_dict['0'])"
   ]
  },
  {
   "cell_type": "code",
   "execution_count": null,
   "metadata": {
    "colab": {
     "base_uri": "https://localhost:8080/",
     "height": 166
    },
    "executionInfo": {
     "elapsed": 15,
     "status": "error",
     "timestamp": 1650030484060,
     "user": {
      "displayName": "Rui Qin Ng",
      "userId": "06262937238615916408"
     },
     "user_tz": -480
    },
    "id": "oYE_ryI9NNq0",
    "outputId": "f8768838-00a4-4e5b-92b7-51b834da8073"
   },
   "outputs": [],
   "source": [
    "# id, trip_seq_no, mode, type, from_lat_lng, to_lat_lng, from_name, to_name, start_time, end_time\n",
    "# 1, 1, WALKING, \"\", (1.3148164, 103.9881745), (1.3148164, 103.9881745), AAA, BBB, ...\n",
    "# 1, 2, TRANSIT, \"35\", (1.3148164, 103.9881745), (1.3148164, 103.9881745), BBB, CCC, ...\n",
    "# 1, 3, WALKING, \"\", (1.3148164, 103.9881745), (1.3148164, 103.9881745), CCC, DDD, ...\n",
    "# 1, 4, TRANSIT, \"East West Line\", (1.3148164, 103.9881745), (1.3148164, 103.9881745), DDD, EEE, ...\n",
    "# ..."
   ]
  },
  {
   "cell_type": "code",
   "execution_count": null,
   "metadata": {
    "id": "clCFeZc-1FT3"
   },
   "outputs": [],
   "source": [
    "def process_all(dir_dict):\n",
    "  for data_row in dir_dict:\n",
    "    print (data_row)\n"
   ]
  },
  {
   "cell_type": "code",
   "execution_count": null,
   "metadata": {
    "id": "BJRARTkn0VLH"
   },
   "outputs": [],
   "source": [
    "for l in directions_dict[0]['legs'][0]['steps']:\n",
    "    print(l)"
   ]
  },
  {
   "cell_type": "code",
   "execution_count": null,
   "metadata": {
    "id": "JTNxKvE9AGU6"
   },
   "outputs": [],
   "source": [
    "data_row = '7'"
   ]
  },
  {
   "cell_type": "code",
   "execution_count": null,
   "metadata": {
    "colab": {
     "base_uri": "https://localhost:8080/"
    },
    "executionInfo": {
     "elapsed": 411,
     "status": "ok",
     "timestamp": 1650300873252,
     "user": {
      "displayName": "Benita Neo",
      "userId": "05522584819975557693"
     },
     "user_tz": -480
    },
    "id": "cWG86O1EAW04",
    "outputId": "b043072e-a74a-4cf3-b85e-fff9133b2f89"
   },
   "outputs": [],
   "source": [
    "directions_dict[data_row][0]['legs'][0]"
   ]
  },
  {
   "cell_type": "code",
   "execution_count": null,
   "metadata": {
    "id": "A_UyLgo0KjMD"
   },
   "outputs": [],
   "source": []
  },
  {
   "cell_type": "code",
   "execution_count": null,
   "metadata": {
    "id": "X2u16swg0naq"
   },
   "outputs": [],
   "source": [
    "# def each_data_point(data_row,dir_dict, pls_wrk_df):\n",
    "#   print(data_row)\n",
    "#   # edge cases\n",
    "#   if len(dir_dict[data_row])==0:\n",
    "#     return pls_wrk_df\n",
    "  \n",
    "#   legs = dir_dict[data_row][0]['legs'][0]\n",
    "\n",
    "#   if all (k in legs for k in ('departure_time','arrival_time','start_address','end_address')) ==False:\n",
    "#     return pls_wrk_df\n",
    "\n",
    "#   else:\n",
    "#     start_journey_time = legs['departure_time']['value'] #start of journey in seconds\n",
    "#     end_journey_time = legs['arrival_time']['value'] #end of journey in seconds\n",
    "\n",
    "#     start_journey_location = legs['start_address'] #start journey location\n",
    "#     end_journey_location = legs['end_address'] #end journey location\n",
    "\n",
    "#     total_seq_no = len(legs['steps'])\n",
    "#     trip_seq_no = 1\n",
    "#     last_location = start_journey_location # start with this first \n",
    "#     last_time = start_journey_time # start with this first\n",
    "\n",
    "#     for moves in legs['steps']:\n",
    "#       curr_dist = moves['distance']['value'] # distance in metres\n",
    "#       curr_duration = moves['duration']['value'] # duration in seconds\n",
    "#       curr_origin_coord = (moves['start_location']['lat'], moves['start_location']['lng']) # origin lat long\n",
    "#       curr_destination_coord = (moves['end_location']['lat'], moves['end_location']['lng']) # destination lat long\n",
    "#       curr_mode = moves['travel_mode'] # walk or transit?\n",
    "\n",
    "#       if curr_mode == 'WALKING':\n",
    "#         #location\n",
    "#         from_loc = last_location # no choice this information is not available, the reason for tracking last_location\n",
    "#         to_loc = moves['html_instructions'][8:] # hacky way of removing the word 'walk to ', at this level, it is 'walk to', not 'head to', 'turn at' etc\n",
    "#         last_location = to_loc #updating\n",
    "\n",
    "#         #time\n",
    "#         start_time = last_time # no choice this information is not available, the reason for tracking last_time\n",
    "#         end_time = start_time + curr_duration\n",
    "#         last_time = end_time\n",
    "\n",
    "#         #type:\n",
    "#         curr_type = \"\"\n",
    "#         curr_type_specific = \"\"\n",
    "      \n",
    "#       elif curr_mode == 'TRANSIT':\n",
    "#         #location\n",
    "#         from_loc = moves['transit_details']['departure_stop']['name'] #departure_stop\n",
    "#         to_loc = moves['transit_details']['arrival_stop']['name'] #arrival_stop\n",
    "#         last_location = to_loc #updating\n",
    "\n",
    "#         #time\n",
    "#         start_time = moves['transit_details']['departure_time']['value'] #departure_time: in seconds \n",
    "#         end_time = moves['transit_details']['arrival_time']['value'] #arrival_time: also in seconds\n",
    "#         last_time = end_time\n",
    "\n",
    "#         #type: \n",
    "#         curr_type = moves['transit_details']['line']['vehicle']['name']\n",
    "\n",
    "#         if 'short_name' in moves['transit_details']['line']:\n",
    "#           curr_type_specific = moves['transit_details']['line']['short_name']        \n",
    "#         else:\n",
    "#           curr_type_specific = moves['transit_details']['line']['name']\n",
    "#       data_row = int(data_row)\n",
    "#       this_row = [data_row, trip_seq_no, curr_mode, curr_type, curr_type_specific, curr_origin_coord, curr_destination_coord, from_loc, to_loc, start_time, end_time]\n",
    "#       pls_wrk_df.loc[len(pls_wrk_df)] = this_row\n",
    "#       trip_seq_no+=1\n",
    "#     return pls_wrk_df\n",
    "\n",
    "\n"
   ]
  },
  {
   "cell_type": "code",
   "execution_count": null,
   "metadata": {
    "id": "eILlnFXynxtH"
   },
   "outputs": [],
   "source": [
    "def each_data_point(data_row,dir_dict, pls_wrk_df):\n",
    "  print(data_row)\n",
    "  # edge cases\n",
    "  if len(dir_dict[data_row])==0:\n",
    "    return pls_wrk_df\n",
    "  \n",
    "  legs = dir_dict[data_row][0]['legs'][0]\n",
    "\n",
    "  if all (k in legs for k in ('departure_time','arrival_time','start_address','end_address','start_location','end_location')) ==False:\n",
    "    return pls_wrk_df\n",
    "\n",
    "  else:\n",
    "    start_journey_time = pd.to_datetime(int(legs['departure_time']['value']), utc=True, unit='s') #start of journey in seconds\n",
    "    end_journey_time = pd.to_datetime(int(legs['arrival_time']['value']), utc=True, unit='s') #end of journey in seconds\n",
    "\n",
    "    start_journey_location = legs['start_address'] #start journey location\n",
    "    end_journey_location = legs['end_address'] #end journey location\n",
    "\n",
    "    start_lat, start_long = legs['start_location']['lat'],legs['start_location']['lng']\n",
    "    end_lat, end_long = legs['end_location']['lat'],legs['end_location']['lng']\n",
    "\n",
    "    total_seq_no = len(legs['steps'])\n",
    "    trip_seq_no = 1\n",
    "    last_location = start_journey_location # start with this first \n",
    "    last_time = start_journey_time # start with this first\n",
    "\n",
    "    for moves in legs['steps']:\n",
    "      curr_dist = moves['distance']['value'] # distance in metres\n",
    "      curr_duration = moves['duration']['value'] # duration in seconds\n",
    "      curr_origin_lat,curr_origin_long = moves['start_location']['lat'], moves['start_location']['lng'] # origin lat long\n",
    "      curr_destination_lat, curr_destination_long = moves['end_location']['lat'], moves['end_location']['lng'] # destination lat long\n",
    "      curr_mode = moves['travel_mode'] # walk or transit?\n",
    "\n",
    "      if curr_mode == 'WALKING':\n",
    "        #location\n",
    "        from_loc = last_location # no choice this information is not available, the reason for tracking last_location\n",
    "        to_loc = moves['html_instructions'][8:] # hacky way of removing the word 'walk to ', at this level, it is 'walk to', not 'head to', 'turn at' etc\n",
    "        last_location = to_loc #updating\n",
    "\n",
    "        #time\n",
    "        #start_time = last_time # no choice this information is not available, the reason for tracking last_time\n",
    "        #end_time = start_time + curr_duration\n",
    "        #last_time = end_time\n",
    "\n",
    "        #type:\n",
    "        curr_type = \"\"\n",
    "        curr_type_specific = \"\"\n",
    "      \n",
    "      elif curr_mode == 'TRANSIT':\n",
    "        #location\n",
    "        from_loc = moves['transit_details']['departure_stop']['name'] #departure_stop\n",
    "        to_loc = moves['transit_details']['arrival_stop']['name'] #arrival_stop\n",
    "        last_location = to_loc #updating\n",
    "\n",
    "        #time\n",
    "        #start_time = moves['transit_details']['departure_time']['value'] #departure_time: in seconds \n",
    "        #end_time = moves['transit_details']['arrival_time']['value'] #arrival_time: also in seconds\n",
    "        #last_time = end_time\n",
    "\n",
    "        #type: \n",
    "        curr_type = moves['transit_details']['line']['vehicle']['name']\n",
    "\n",
    "        if 'short_name' in moves['transit_details']['line']:\n",
    "          curr_type_specific = moves['transit_details']['line']['short_name']        \n",
    "        else:\n",
    "          curr_type_specific = moves['transit_details']['line']['name']\n",
    "      data_row = int(data_row)\n",
    "      if from_loc == to_loc:\n",
    "        continue\n",
    "      else:\n",
    "        this_row = [data_row, trip_seq_no, curr_mode, curr_type, curr_type_specific, curr_origin_lat, curr_origin_long, from_loc, start_journey_time, end_journey_time]\n",
    "        pls_wrk_df.loc[len(pls_wrk_df)] = this_row\n",
    "        trip_seq_no+=1\n",
    "    # destination row  \n",
    "    this_row = [data_row, trip_seq_no,\"\",\"\",\"\", end_lat, end_long, end_journey_location,start_journey_time, end_journey_time ]\n",
    "    pls_wrk_df.loc[len(pls_wrk_df)] = this_row\n",
    "    return pls_wrk_df\n"
   ]
  },
  {
   "cell_type": "code",
   "execution_count": null,
   "metadata": {
    "id": "TYEytl0cOUUK"
   },
   "outputs": [],
   "source": [
    "# just to test\n",
    "keys_to_extract = [\"5\", \"7\" ,\"11\"]\n",
    "a_subset = {key: directions_dict[key] for key in keys_to_extract}"
   ]
  },
  {
   "cell_type": "code",
   "execution_count": null,
   "metadata": {
    "colab": {
     "base_uri": "https://localhost:8080/",
     "height": 973
    },
    "executionInfo": {
     "elapsed": 6,
     "status": "ok",
     "timestamp": 1650305016995,
     "user": {
      "displayName": "Benita Neo",
      "userId": "05522584819975557693"
     },
     "user_tz": -480
    },
    "id": "xCcOqUHAN-Gj",
    "outputId": "ad914406-2914-4890-fc25-bc9bf02f0a68"
   },
   "outputs": [],
   "source": [
    "def process_all(dir_dict):\n",
    "  pls_work_df = pd.DataFrame(columns=['id', 'trip_seq_no', 'mode', 'type', 'service', 'lat', 'long',  'location','trip_start_time', 'trip_end_time'])\n",
    "  for i in dir_dict:\n",
    "    each_data_point(i,directions_dict,pls_work_df)\n",
    "  return pls_work_df\n",
    "\n",
    "process_all(a_subset)"
   ]
  },
  {
   "cell_type": "code",
   "execution_count": null,
   "metadata": {
    "colab": {
     "base_uri": "https://localhost:8080/"
    },
    "executionInfo": {
     "elapsed": 2202500,
     "status": "ok",
     "timestamp": 1650307476075,
     "user": {
      "displayName": "Benita Neo",
      "userId": "05522584819975557693"
     },
     "user_tz": -480
    },
    "id": "HHWjsEwePozc",
    "outputId": "c698afb2-70f2-4042-d8e3-10141c99694a"
   },
   "outputs": [],
   "source": [
    "trips_processed_df = process_all(directions_dict)"
   ]
  },
  {
   "cell_type": "code",
   "execution_count": null,
   "metadata": {
    "colab": {
     "base_uri": "https://localhost:8080/",
     "height": 641
    },
    "executionInfo": {
     "elapsed": 273,
     "status": "ok",
     "timestamp": 1650307520249,
     "user": {
      "displayName": "Benita Neo",
      "userId": "05522584819975557693"
     },
     "user_tz": -480
    },
    "id": "eUCWvDGnVQd1",
    "outputId": "e9cd415e-5eae-4a36-a0b0-19e238d61be1"
   },
   "outputs": [],
   "source": [
    "trips_processed_df"
   ]
  },
  {
   "cell_type": "code",
   "execution_count": null,
   "metadata": {
    "id": "PGidWBlZ_n-N"
   },
   "outputs": [],
   "source": [
    "from datetime import datetime\n",
    "from dateutil import tz\n",
    "\n",
    "from_zone = tz.gettz(\"UTC\")\n",
    "to_zone = tz.gettz('America/New_York')"
   ]
  },
  {
   "cell_type": "code",
   "execution_count": null,
   "metadata": {
    "colab": {
     "base_uri": "https://localhost:8080/"
    },
    "executionInfo": {
     "elapsed": 268,
     "status": "ok",
     "timestamp": 1650307717754,
     "user": {
      "displayName": "Benita Neo",
      "userId": "05522584819975557693"
     },
     "user_tz": -480
    },
    "id": "y_qZjPBXATTd",
    "outputId": "9d1c3420-3e03-4ebb-9c06-4c1b4ab2b80c"
   },
   "outputs": [],
   "source": [
    "from_zone"
   ]
  },
  {
   "cell_type": "code",
   "execution_count": null,
   "metadata": {
    "id": "80xNPLN3BZRe"
   },
   "outputs": [],
   "source": []
  },
  {
   "cell_type": "code",
   "execution_count": null,
   "metadata": {
    "colab": {
     "base_uri": "https://localhost:8080/"
    },
    "executionInfo": {
     "elapsed": 300,
     "status": "ok",
     "timestamp": 1650307997451,
     "user": {
      "displayName": "Benita Neo",
      "userId": "05522584819975557693"
     },
     "user_tz": -480
    },
    "id": "KSaWNbiDBZXj",
    "outputId": "31c455ab-307c-4bcb-88c4-e553a7400efe"
   },
   "outputs": [],
   "source": [
    "trips_processed_df['trip_start_time']"
   ]
  },
  {
   "cell_type": "code",
   "execution_count": null,
   "metadata": {
    "id": "FcjVR47WAeY8"
   },
   "outputs": [],
   "source": [
    "trips_processed_df['trip_start_time_us'] = trips_processed_df['trip_start_time'].apply(lambda x: x.replace(tzinfo=from_zone))\n",
    "trips_processed_df['trip_end_time_us'] = trips_processed_df['trip_end_time'].apply(lambda x: x.replace(tzinfo=from_zone))"
   ]
  },
  {
   "cell_type": "code",
   "execution_count": null,
   "metadata": {
    "id": "VGKYqLi9BCV2"
   },
   "outputs": [],
   "source": [
    "trips_processed_df['trip_start_time_us'] = trips_processed_df['trip_start_time_us'].apply(lambda x: x.astimezone(to_zone))\n",
    "trips_processed_df['trip_end_time_us'] = trips_processed_df['trip_end_time_us'].apply(lambda x: x.astimezone(to_zone))"
   ]
  },
  {
   "cell_type": "code",
   "execution_count": null,
   "metadata": {
    "colab": {
     "base_uri": "https://localhost:8080/",
     "height": 869
    },
    "executionInfo": {
     "elapsed": 17,
     "status": "ok",
     "timestamp": 1650308287301,
     "user": {
      "displayName": "Benita Neo",
      "userId": "05522584819975557693"
     },
     "user_tz": -480
    },
    "id": "SoB5P8d0BjuQ",
    "outputId": "c0d72145-06f0-461e-f998-a6930959a41b"
   },
   "outputs": [],
   "source": [
    "trips_processed_df"
   ]
  },
  {
   "cell_type": "code",
   "execution_count": null,
   "metadata": {
    "id": "RVk-Ufe4VBF8"
   },
   "outputs": [],
   "source": [
    "trips_processed_df.to_csv(TRIPS_PROCESSED_PATH,index=False)"
   ]
  },
  {
   "cell_type": "code",
   "execution_count": null,
   "metadata": {
    "colab": {
     "base_uri": "https://localhost:8080/"
    },
    "executionInfo": {
     "elapsed": 304,
     "status": "ok",
     "timestamp": 1650230203346,
     "user": {
      "displayName": "Benita Neo",
      "userId": "05522584819975557693"
     },
     "user_tz": -480
    },
    "id": "OfjRZRqLP9j4",
    "outputId": "fbae0ea6-b3dd-4f24-b28e-4be593227fc2"
   },
   "outputs": [],
   "source": [
    "directions_dict['23345'][0]['legs'][0]#['steps']"
   ]
  },
  {
   "cell_type": "code",
   "execution_count": null,
   "metadata": {
    "colab": {
     "base_uri": "https://localhost:8080/"
    },
    "executionInfo": {
     "elapsed": 323,
     "status": "ok",
     "timestamp": 1650032842443,
     "user": {
      "displayName": "Rui Qin Ng",
      "userId": "06262937238615916408"
     },
     "user_tz": -480
    },
    "id": "nJxaQoj0lCNF",
    "outputId": "ae9a0bad-1a4c-4fcc-9b85-040447c0970e"
   },
   "outputs": [],
   "source": [
    "# Create csv of all trips - refer to notebook 1\n",
    "for l in directions_dict[0]['legs'][0]['steps']:\n",
    "    print(l)"
   ]
  },
  {
   "cell_type": "code",
   "execution_count": null,
   "metadata": {
    "colab": {
     "base_uri": "https://localhost:8080/"
    },
    "executionInfo": {
     "elapsed": 6,
     "status": "ok",
     "timestamp": 1650032457062,
     "user": {
      "displayName": "Rui Qin Ng",
      "userId": "06262937238615916408"
     },
     "user_tz": -480
    },
    "id": "WIIZn558mDUg",
    "outputId": "60133da4-1c3c-41a4-faab-dff6ed1b55f1"
   },
   "outputs": [],
   "source": [
    "with open('/gdrive/My Drive/Tigyore/data/sample_directions_response.json', 'r') as f:\n",
    "    print(f.readlines())"
   ]
  },
  {
   "cell_type": "code",
   "execution_count": null,
   "metadata": {
    "id": "Maqt_hECmREX"
   },
   "outputs": [],
   "source": [
    "singapore_directions_dict = dict()\n",
    "with open('/gdrive/My Drive/Tigyore/data/sample_directions_response.json', 'r') as f:\n",
    "    singapore_directions_dict = json.loads(f.readlines()[0])"
   ]
  },
  {
   "cell_type": "code",
   "execution_count": null,
   "metadata": {
    "colab": {
     "base_uri": "https://localhost:8080/"
    },
    "executionInfo": {
     "elapsed": 314,
     "status": "ok",
     "timestamp": 1650222782156,
     "user": {
      "displayName": "Benita Neo",
      "userId": "05522584819975557693"
     },
     "user_tz": -480
    },
    "id": "moV0r1fs5jn8",
    "outputId": "73037db5-2a18-4b9c-aca1-8703c7b273c8"
   },
   "outputs": [],
   "source": [
    "pprint(singapore_directions_dict[0]['legs'][0]['steps'])"
   ]
  },
  {
   "cell_type": "code",
   "execution_count": null,
   "metadata": {
    "id": "praT_CeQ5lJK"
   },
   "outputs": [],
   "source": []
  }
 ],
 "metadata": {
  "colab": {
   "collapsed_sections": [],
   "name": "4b. Trip Builder.ipynb",
   "provenance": []
  },
  "kernelspec": {
   "display_name": "Python 3 (ipykernel)",
   "language": "python",
   "name": "python3"
  },
  "language_info": {
   "codemirror_mode": {
    "name": "ipython",
    "version": 3
   },
   "file_extension": ".py",
   "mimetype": "text/x-python",
   "name": "python",
   "nbconvert_exporter": "python",
   "pygments_lexer": "ipython3",
   "version": "3.9.5"
  }
 },
 "nbformat": 4,
 "nbformat_minor": 1
}
