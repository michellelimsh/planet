{
 "cells": [
  {
   "cell_type": "markdown",
   "metadata": {
    "id": "owRhnxW15t_w"
   },
   "source": [
    "## Install Packages"
   ]
  },
  {
   "cell_type": "code",
   "execution_count": null,
   "metadata": {
    "colab": {
     "base_uri": "https://localhost:8080/"
    },
    "executionInfo": {
     "elapsed": 7105,
     "status": "ok",
     "timestamp": 1650189613083,
     "user": {
      "displayName": "Benita Neo",
      "userId": "05522584819975557693"
     },
     "user_tz": -480
    },
    "id": "JmsrV-SNnx31",
    "outputId": "a3bb7cb1-ef1c-4d95-9ffe-9c4fc2e5485e"
   },
   "outputs": [
    {
     "name": "stdout",
     "output_type": "stream",
     "text": [
      "Collecting pyTigerGraph\n",
      "  Downloading pyTigerGraph-0.0.9.9.2-py3-none-any.whl (22 kB)\n",
      "Collecting googlemaps\n",
      "  Downloading googlemaps-4.6.0.tar.gz (31 kB)\n",
      "Requirement already satisfied: pandas in /usr/local/lib/python3.7/dist-packages (from pyTigerGraph) (1.3.5)\n",
      "Requirement already satisfied: requests in /usr/local/lib/python3.7/dist-packages (from pyTigerGraph) (2.23.0)\n",
      "Collecting validators\n",
      "  Downloading validators-0.18.2-py3-none-any.whl (19 kB)\n",
      "Collecting pyTigerDriver\n",
      "  Downloading pyTigerDriver-1.0.14-py3-none-any.whl (8.7 kB)\n",
      "Requirement already satisfied: chardet<4,>=3.0.2 in /usr/local/lib/python3.7/dist-packages (from requests->pyTigerGraph) (3.0.4)\n",
      "Requirement already satisfied: urllib3!=1.25.0,!=1.25.1,<1.26,>=1.21.1 in /usr/local/lib/python3.7/dist-packages (from requests->pyTigerGraph) (1.24.3)\n",
      "Requirement already satisfied: certifi>=2017.4.17 in /usr/local/lib/python3.7/dist-packages (from requests->pyTigerGraph) (2021.10.8)\n",
      "Requirement already satisfied: idna<3,>=2.5 in /usr/local/lib/python3.7/dist-packages (from requests->pyTigerGraph) (2.10)\n",
      "Requirement already satisfied: python-dateutil>=2.7.3 in /usr/local/lib/python3.7/dist-packages (from pandas->pyTigerGraph) (2.8.2)\n",
      "Requirement already satisfied: numpy>=1.17.3 in /usr/local/lib/python3.7/dist-packages (from pandas->pyTigerGraph) (1.21.5)\n",
      "Requirement already satisfied: pytz>=2017.3 in /usr/local/lib/python3.7/dist-packages (from pandas->pyTigerGraph) (2018.9)\n",
      "Requirement already satisfied: six>=1.5 in /usr/local/lib/python3.7/dist-packages (from python-dateutil>=2.7.3->pandas->pyTigerGraph) (1.15.0)\n",
      "Requirement already satisfied: decorator>=3.4.0 in /usr/local/lib/python3.7/dist-packages (from validators->pyTigerGraph) (4.4.2)\n",
      "Building wheels for collected packages: googlemaps\n",
      "  Building wheel for googlemaps (setup.py) ... \u001b[?25l\u001b[?25hdone\n",
      "  Created wheel for googlemaps: filename=googlemaps-4.6.0-py3-none-any.whl size=38554 sha256=0209301f106afecf5282275de607b4a09e1c0d95ab04287f0deed0430d09b9af\n",
      "  Stored in directory: /root/.cache/pip/wheels/80/db/c0/6d958585fa97b20e250bf437acf7e6e715b4809c2dd4e55367\n",
      "Successfully built googlemaps\n",
      "Installing collected packages: validators, pyTigerDriver, pyTigerGraph, googlemaps\n",
      "Successfully installed googlemaps-4.6.0 pyTigerDriver-1.0.14 pyTigerGraph-0.0.9.9.2 validators-0.18.2\n"
     ]
    }
   ],
   "source": [
    "# Setup\n",
    "!pip install -U pyTigerGraph googlemaps"
   ]
  },
  {
   "cell_type": "markdown",
   "metadata": {
    "id": "pSsJAzc_5yNN"
   },
   "source": [
    "## Add Imports and Establish Initial Connection"
   ]
  },
  {
   "cell_type": "code",
   "execution_count": null,
   "metadata": {
    "colab": {
     "base_uri": "https://localhost:8080/"
    },
    "executionInfo": {
     "elapsed": 60026,
     "status": "ok",
     "timestamp": 1650189686746,
     "user": {
      "displayName": "Benita Neo",
      "userId": "05522584819975557693"
     },
     "user_tz": -480
    },
    "id": "vqpwQh1_noLK",
    "outputId": "de2da65e-6269-4844-a4cd-36c8df011e75"
   },
   "outputs": [
    {
     "name": "stdout",
     "output_type": "stream",
     "text": [
      "Mounted at /gdrive\n"
     ]
    }
   ],
   "source": [
    "# Imports\n",
    "from datetime import datetime\n",
    "from getpass import getpass\n",
    "import json\n",
    "\n",
    "from google.colab import drive\n",
    "import googlemaps\n",
    "import pandas as pd\n",
    "import pyTigerGraph as tg\n",
    "import requests\n",
    "\n",
    "drive.mount('/gdrive')"
   ]
  },
  {
   "cell_type": "code",
   "execution_count": null,
   "metadata": {
    "colab": {
     "base_uri": "https://localhost:8080/"
    },
    "executionInfo": {
     "elapsed": 29644,
     "status": "ok",
     "timestamp": 1650166675841,
     "user": {
      "displayName": "Benita Neo",
      "userId": "05522584819975557693"
     },
     "user_tz": -480
    },
    "id": "dZy9cXOYfrct",
    "outputId": "96693d5c-3813-4878-cbf7-e65dfb8a9cae"
   },
   "outputs": [
    {
     "name": "stdout",
     "output_type": "stream",
     "text": [
      "Connected\n"
     ]
    }
   ],
   "source": [
    "# Connection parameters\n",
    "hostName = ''\n",
    "userName = ''\n",
    "password = ''\n",
    "conn = tg.TigerGraphConnection(host=hostName, username=userName, password=password)\n",
    "\n",
    "conn.graphname='TigyoreGraph'\n",
    "secret = conn.createSecret()\n",
    "authToken = conn.getToken(secret)\n",
    "authToken = authToken[0]\n",
    "conn = tg.TigerGraphConnection(host=hostName, graphname='TigyoreGraph', username=userName, password=password, apiToken=authToken)\n",
    "\n",
    "print('Connected')"
   ]
  },
  {
   "cell_type": "code",
   "execution_count": null,
   "metadata": {
    "colab": {
     "base_uri": "https://localhost:8080/"
    },
    "executionInfo": {
     "elapsed": 322,
     "status": "ok",
     "timestamp": 1650190327302,
     "user": {
      "displayName": "Benita Neo",
      "userId": "05522584819975557693"
     },
     "user_tz": -480
    },
    "id": "-52cbUWjVBUN",
    "outputId": "c35095c4-57e3-4773-8a69-9246b9ce1f8d"
   },
   "outputs": [
    {
     "name": "stdout",
     "output_type": "stream",
     "text": [
      "ls: cannot access '/gdrive/My Drive/Tigyore': No such file or directory\n"
     ]
    }
   ],
   "source": [
    "!ls \"/gdrive/My Drive/Tigyore\""
   ]
  },
  {
   "cell_type": "code",
   "execution_count": null,
   "metadata": {
    "id": "WF53T9iZe6YG"
   },
   "outputs": [],
   "source": [
    "# API_KEY = getpass('Enter Google API Key:')\n",
    "\n",
    "# API_KEY[:5] + '...'"
   ]
  },
  {
   "cell_type": "code",
   "execution_count": null,
   "metadata": {
    "id": "nXnOqQ-IiJ6u"
   },
   "outputs": [],
   "source": [
    "# https://towardsdatascience.com/geocoding-singapore-coordinates-onemap-api-3e1542bf26f7\n",
    "def get_sg_lat_lng_coordinates(address):\n",
    "    req = requests.get('https://developers.onemap.sg/commonapi/search?searchVal='+address+'&returnGeom=Y&getAddrDetails=Y&pageNum=1')\n",
    "    resultsdict = eval(req.text)\n",
    "    if len(resultsdict['results'])>0:\n",
    "        return resultsdict['results'][0]['LATITUDE'], resultsdict['results'][0]['LONGITUDE']\n",
    "    else:\n",
    "        pass"
   ]
  },
  {
   "cell_type": "code",
   "execution_count": null,
   "metadata": {
    "id": "omm33JCQf8IU"
   },
   "outputs": [],
   "source": [
    "# https://github.com/googlemaps/google-maps-services-python\n",
    "def get_sg_transit_directions(origin: str, destination: str, departure_time: str, api_key: str) -> dict:\n",
    "    gmaps = googlemaps.Client(key=api_key)\n",
    "\n",
    "    origin = get_sg_lat_lng_coordinates(origin)\n",
    "    destination = get_sg_lat_lng_coordinates(destination)\n",
    "\n",
    "    departure_time = datetime.strptime(departure_time, '%Y-%m-%d %H:%M:%S %z')\n",
    "\n",
    "    directions_result = gmaps.directions(origin,\n",
    "                                         destination,\n",
    "                                         mode='transit',\n",
    "                                         language='en',\n",
    "                                         region='sg',\n",
    "                                         departure_time=departure_time)\n",
    "    return directions_result"
   ]
  },
  {
   "cell_type": "code",
   "execution_count": null,
   "metadata": {
    "id": "lBGAZ5HyQWbt"
   },
   "outputs": [],
   "source": [
    "# https://github.com/googlemaps/google-maps-services-python\n",
    "def get_nyc_transit_directions(origin: tuple, destination: tuple, departure_time: str, api_key: str) -> dict:\n",
    "    gmaps = googlemaps.Client(key=api_key)\n",
    "\n",
    "    departure_time = datetime.strptime(departure_time, '%Y-%m-%d %H:%M:%S %z')\n",
    "\n",
    "    directions_result = gmaps.directions(origin,\n",
    "                                         destination,\n",
    "                                         mode='transit',\n",
    "                                         language='en',\n",
    "                                         region='us',\n",
    "                                         departure_time=departure_time)\n",
    "    return directions_result"
   ]
  },
  {
   "cell_type": "code",
   "execution_count": null,
   "metadata": {
    "id": "A95S70XcexPe"
   },
   "outputs": [],
   "source": [
    "# help(googlemaps.directions)"
   ]
  },
  {
   "cell_type": "code",
   "execution_count": null,
   "metadata": {
    "id": "4uTY5uOPezu2"
   },
   "outputs": [],
   "source": [
    "# directions_dict = get_sg_transit_directions('Tanah Merah Ferry Road', 'DUO Tower', '2022-04-16 14:00:00 +0800', API_KEY)\n",
    "# directions_dict"
   ]
  },
  {
   "cell_type": "code",
   "execution_count": null,
   "metadata": {
    "id": "Ew4blg-PNQba"
   },
   "outputs": [],
   "source": [
    "# with open('/gdrive/My Drive/Tigyore/data/sample_directions_response.json', 'w') as f:\n",
    "#     f.write(json.dumps(directions_dict))"
   ]
  },
  {
   "cell_type": "code",
   "execution_count": null,
   "metadata": {
    "id": "OVWKmfq7mb7X"
   },
   "outputs": [],
   "source": [
    "directions_dict = dict()\n",
    "\n",
    "with open('/gdrive/My Drive/Tigyore/data/sample_directions_response.json', 'r') as f:\n",
    "    directions_dict = json.loads(f.readlines()[0])"
   ]
  },
  {
   "cell_type": "code",
   "execution_count": null,
   "metadata": {
    "colab": {
     "base_uri": "https://localhost:8080/"
    },
    "executionInfo": {
     "elapsed": 534,
     "status": "ok",
     "timestamp": 1650032838823,
     "user": {
      "displayName": "Rui Qin Ng",
      "userId": "06262937238615916408"
     },
     "user_tz": -480
    },
    "id": "3M9sZ626mb4h",
    "outputId": "34f51765-7391-4298-89b2-7473dd308666"
   },
   "outputs": [
    {
     "data": {
      "text/plain": [
       "[{'bounds': {'northeast': {'lat': 1.3321295, 'lng': 103.9894148},\n",
       "   'southwest': {'lat': 1.2993733, 'lng': 103.85571}},\n",
       "  'copyrights': 'Map data ©2022 Google',\n",
       "  'legs': [{'arrival_time': {'text': '2:59pm',\n",
       "     'time_zone': 'Asia/Singapore',\n",
       "     'value': 1650092358},\n",
       "    'departure_time': {'text': '2:00pm',\n",
       "     'time_zone': 'Asia/Singapore',\n",
       "     'value': 1650088800},\n",
       "    'distance': {'text': '18.1 km', 'value': 18051},\n",
       "    'duration': {'text': '59 mins', 'value': 3558},\n",
       "    'end_address': '3 Fraser St, Singapore 189352',\n",
       "    'end_location': {'lat': 1.2994335, 'lng': 103.8581633},\n",
       "    'start_address': '50 Tanah Merah Ferry Rd, Tanah Merah Ferry Terminal, Singapore 498833',\n",
       "    'start_location': {'lat': 1.3142975, 'lng': 103.9882265},\n",
       "    'steps': [{'distance': {'text': '0.3 km', 'value': 269},\n",
       "      'duration': {'text': '3 mins', 'value': 195},\n",
       "      'end_location': {'lat': 1.3151607, 'lng': 103.9888569},\n",
       "      'html_instructions': 'Walk to Tanah Merah Ferry Ter',\n",
       "      'polyline': {'points': 'ku_GmeuyRKi@Qw@GQ?EMBUDC@M@?JCBAF?B@DDPPv@_@Jg@eCCGEAG@E@C@'},\n",
       "      'start_location': {'lat': 1.3142975, 'lng': 103.9882265},\n",
       "      'steps': [{'distance': {'text': '68 m', 'value': 68},\n",
       "        'duration': {'text': '1 min', 'value': 48},\n",
       "        'end_location': {'lat': 1.3145616, 'lng': 103.9888227},\n",
       "        'html_instructions': 'Head <b>east</b><div style=\"font-size:0.9em\">Restricted usage road</div>',\n",
       "        'polyline': {'points': 'ku_GmeuyRKi@Qw@GQ?EMB'},\n",
       "        'start_location': {'lat': 1.3142975, 'lng': 103.9882265},\n",
       "        'travel_mode': 'WALKING'},\n",
       "       {'distance': {'text': '86 m', 'value': 86},\n",
       "        'duration': {'text': '1 min', 'value': 63},\n",
       "        'end_location': {'lat': 1.3146568, 'lng': 103.9882264},\n",
       "        'html_instructions': 'Turn <b>left</b><div style=\"font-size:0.9em\">Restricted usage road</div>',\n",
       "        'maneuver': 'turn-left',\n",
       "        'polyline': {'points': '_w_GciuyRUDC@M@?JCBAF?B@DDPPv@'},\n",
       "        'start_location': {'lat': 1.3145616, 'lng': 103.9888227},\n",
       "        'travel_mode': 'WALKING'},\n",
       "       {'distance': {'text': '19 m', 'value': 19},\n",
       "        'duration': {'text': '1 min', 'value': 14},\n",
       "        'end_location': {'lat': 1.3148164, 'lng': 103.9881745},\n",
       "        'html_instructions': 'Turn <b>right</b>',\n",
       "        'maneuver': 'turn-right',\n",
       "        'polyline': {'points': 'sw_GmeuyR_@J'},\n",
       "        'start_location': {'lat': 1.3146568, 'lng': 103.9882264},\n",
       "        'travel_mode': 'WALKING'},\n",
       "       {'distance': {'text': '0.1 km', 'value': 96},\n",
       "        'duration': {'text': '1 min', 'value': 70},\n",
       "        'end_location': {'lat': 1.3151607, 'lng': 103.9888569},\n",
       "        'html_instructions': 'Turn <b>right</b><div style=\"font-size:0.9em\">Destination will be on the right</div>',\n",
       "        'maneuver': 'turn-right',\n",
       "        'polyline': {'points': 'sx_GaeuyRg@eCCGEAG@E@C@'},\n",
       "        'start_location': {'lat': 1.3148164, 'lng': 103.9881745},\n",
       "        'travel_mode': 'WALKING'}],\n",
       "      'travel_mode': 'WALKING'},\n",
       "     {'distance': {'text': '6.4 km', 'value': 6391},\n",
       "      'duration': {'text': '13 mins', 'value': 780},\n",
       "      'end_location': {'lat': 1.326844, 'lng': 103.946457},\n",
       "      'html_instructions': 'Bus towards Bedok',\n",
       "      'polyline': {'points': '_{_GqiuyRoFgBIVo@vBCJWr@k@jBe@rCYtAq@|B_BbFO^M`@_@hA[|@g@~A{AlEg@nA]r@yAlCi@hA_@r@{@bBQZwAlCYl@e@j@e@ZGFWJKDWHs@Ho@@A?YEq@Kk@OwAg@k@OuAe@[Ka@OA?AAMEgCu@_@OQGOESIKC[KUEUCUCSA[@YBSBMDSD_@PUNYTOPQVQh@IZCPAJAHAL?P@\\\\F^J\\\\L^LRLVLRLTV\\\\PRPTpAvAr@x@hAnARLRVf@|@bCxCDJf@|@`@|@@@b@zAFz@B`@BZ?b@C~@Gt@G`@AJEVI`@IR?@MZWn@_@j@iBhCMTU^SZORCFEFMREFKRsBtCo@|@qAhBSVs@bAQTQVc@l@SZU`@_@r@c@`AM`@G^Cb@UjAO^CHELQf@ONO\\\\o@vAGJIPIPOVOr@Kl@CTe@lCMj@y@fEGZc@zBSdAAB[bBi@hCc@tB?BSbAWrAGRKf@S~@IZOr@GTENGPENSd@Sh@S`@MXGh@AN?TAPR\\\\dA|AhD|EZb@zAnBPVJNNN^d@^f@Z`@t@hAx@b@l@j@Z`@^`@^|@FLT`A~C~JPl@ZpA`@fBRE'},\n",
       "      'start_location': {'lat': 1.315203, 'lng': 103.988892},\n",
       "      'transit_details': {'arrival_stop': {'location': {'lat': 1.326844,\n",
       "         'lng': 103.946457},\n",
       "        'name': 'Tanah Merah Stn Exit A'},\n",
       "       'arrival_time': {'text': '2:28pm',\n",
       "        'time_zone': 'Asia/Singapore',\n",
       "        'value': 1650090496},\n",
       "       'departure_stop': {'location': {'lat': 1.315203, 'lng': 103.988892},\n",
       "        'name': 'Tanah Merah Ferry Ter'},\n",
       "       'departure_time': {'text': '2:15pm',\n",
       "        'time_zone': 'Asia/Singapore',\n",
       "        'value': 1650089716},\n",
       "       'headsign': 'Bedok',\n",
       "       'headway': 720,\n",
       "       'line': {'agencies': [{'name': 'SBS Transit',\n",
       "          'phone': '1800 225 5663',\n",
       "          'url': 'https://www.sbstransit.com.sg/'}],\n",
       "        'color': '#55dd33',\n",
       "        'name': '35',\n",
       "        'text_color': '#000000',\n",
       "        'vehicle': {'icon': '//maps.gstatic.com/mapfiles/transit/iw2/6/bus2.png',\n",
       "         'name': 'Bus',\n",
       "         'type': 'BUS'}},\n",
       "       'num_stops': 5},\n",
       "      'travel_mode': 'TRANSIT'},\n",
       "     {'distance': {'text': '0.1 km', 'value': 140},\n",
       "      'duration': {'text': '2 mins', 'value': 122},\n",
       "      'end_location': {'lat': 1.32719, 'lng': 103.94635},\n",
       "      'html_instructions': 'Walk to Tanah Merah',\n",
       "      'polyline': {'points': 'cdbGg`myRVnABJHZ]HaAoB'},\n",
       "      'start_location': {'lat': 1.3269015, 'lng': 103.9464378},\n",
       "      'steps': [{'distance': {'text': '69 m', 'value': 69},\n",
       "        'duration': {'text': '1 min', 'value': 50},\n",
       "        'end_location': {'lat': 1.3267144, 'lng': 103.9458443},\n",
       "        'html_instructions': 'Head <b>west</b> on <b>New Upper Changi Rd</b><div style=\"font-size:0.9em\">Destination will be on the right</div>',\n",
       "        'polyline': {'points': 'cdbGg`myRVnABJHZ'},\n",
       "        'start_location': {'lat': 1.3269015, 'lng': 103.9464378},\n",
       "        'travel_mode': 'WALKING'},\n",
       "       {'distance': {'text': '71 m', 'value': 71},\n",
       "        'duration': {'text': '1 min', 'value': 72},\n",
       "        'end_location': {'lat': 1.32719, 'lng': 103.94635},\n",
       "        'html_instructions': 'Take entrance <span class=\"location\">A</span>',\n",
       "        'polyline': {'points': '{cbGe|lyRaAoB'},\n",
       "        'start_location': {'lat': 1.3268577, 'lng': 103.9457947},\n",
       "        'travel_mode': 'WALKING'}],\n",
       "      'travel_mode': 'WALKING'},\n",
       "     {'distance': {'text': '10.8 km', 'value': 10805},\n",
       "      'duration': {'text': '17 mins', 'value': 1020},\n",
       "      'end_location': {'lat': 1.30047, 'lng': 103.85571},\n",
       "      'html_instructions': 'Subway towards Tuas Link',\n",
       "      'polyline': {'points': '}ebGu_myRDAv@zCBHr@dCLb@^rADRFRBF@Hp@jCF\\\\Lh@l@dCZtAP`AVfBD^BZ@D@RBRDb@Dz@PbCLjBNbCPhCRnCBb@D`@LpB@TDf@HfABb@@L@TDb@B`@F~@PlCHnA@FBZ@LFx@?DFx@?N@T@V@TDt@H~@?J@L@LFv@HbA?BFp@@TFn@?@BVBXBZ@BHnABTBXDl@Fr@BPNlBBTBVPhBHbA?BPhBP~ALjALbAPlABJRfAJj@DTDNBLFZ^|APp@Pt@XlARv@b@`BBJ@JdA`EDRRz@DT@H@FBR@F@HB^?BBZ?F?R@TAh@AVAXCp@Ef@El@En@G|@?DG`AAr@?|@?n@@ZBd@BZ@J@FRfB?@BJ@JD^NdA@DDXBXZ~B@NPxAThBTfB@HBJ@JPtALdA@F@F@LRxAVhB@F@HPtA@H@HRzAHl@@HDl@?D@P?@@^@Z?l@APAVIrACb@?DGnAATAl@AP?L@\\\\?HBf@?DB\\\\F|@@HLjBPbCBd@V|DLzAH~@@PDb@D^LrAHn@BRBZNrARhB|@|H`@nD@L@LFj@V|BDf@@BXlE?DBZDt@Fx@BXBXFx@TfD@@@f@Bh@?DBvABb@?BLjBFp@BNXlCXlCBVBV@L^nCBPZpC@JZpDTlCBRBRFl@b@dE`@hE@JTvBFx@Dd@B\\\\Dz@B^B`@@PVnBLdADb@Db@ThBDb@Jx@NpA?HDTDTHd@FPFTHVN^DJN\\\\R^JPR\\\\vBrDpAvBZf@Xf@l@`Af@z@NVLVVb@\\\\n@LTf@z@d@|@HNn@hA\\\\n@HPjAlBd@r@n@~AR`@HPFLTl@L\\\\Jb@`@jBBLLv@Jl@nAfH~@pF`A`CFLDHvCjEpFhFXXfFnGTZxIvK|G`HdMzKYZ'},\n",
       "      'start_location': {'lat': 1.32719, 'lng': 103.94635},\n",
       "      'transit_details': {'arrival_stop': {'location': {'lat': 1.30047,\n",
       "         'lng': 103.85571},\n",
       "        'name': 'Bugis'},\n",
       "       'arrival_time': {'text': '2:53pm',\n",
       "        'time_zone': 'Asia/Singapore',\n",
       "        'value': 1650091999},\n",
       "       'departure_stop': {'location': {'lat': 1.32719, 'lng': 103.94635},\n",
       "        'name': 'Tanah Merah'},\n",
       "       'departure_time': {'text': '2:36pm',\n",
       "        'time_zone': 'Asia/Singapore',\n",
       "        'value': 1650090979},\n",
       "       'headsign': 'Tuas Link',\n",
       "       'headway': 360,\n",
       "       'line': {'agencies': [{'name': 'SMRT',\n",
       "          'phone': '1800 336 8900',\n",
       "          'url': 'http://www.smrt.com.sg/'}],\n",
       "        'color': '#049645',\n",
       "        'name': 'East West Line',\n",
       "        'text_color': '#ffffff',\n",
       "        'vehicle': {'icon': '//maps.gstatic.com/mapfiles/transit/iw2/6/subway2.png',\n",
       "         'name': 'Subway',\n",
       "         'type': 'SUBWAY'}},\n",
       "       'num_stops': 8},\n",
       "      'travel_mode': 'TRANSIT'},\n",
       "     {'distance': {'text': '0.4 km', 'value': 446},\n",
       "      'duration': {'text': '6 mins', 'value': 355},\n",
       "      'end_location': {'lat': 1.2994335, 'lng': 103.8581633},\n",
       "      'html_instructions': 'Walk to 3 Fraser St, Singapore 189352',\n",
       "      'polyline': {'points': '}~|Fei{xR}@}BMNq@i@@EHGDMBCDED[NOv@{@TUJDDBTRHFHRRSNKPQDCB?DAJE`@_@HIFG@A@A@CBEBE@E@I@G@K@KAQAKCKCI'},\n",
       "      'start_location': {'lat': 1.30047, 'lng': 103.85571},\n",
       "      'steps': [{'distance': {'text': '77 m', 'value': 77},\n",
       "        'duration': {'text': '1 min', 'value': 78},\n",
       "        'end_location': {'lat': 1.3007822, 'lng': 103.8563366},\n",
       "        'html_instructions': 'Take exit <span class=\"location\">B</span>',\n",
       "        'polyline': {'points': '}~|Fei{xR}@}B'},\n",
       "        'start_location': {'lat': 1.30047, 'lng': 103.85571},\n",
       "        'travel_mode': 'WALKING'},\n",
       "       {'distance': {'text': '44 m', 'value': 44},\n",
       "        'duration': {'text': '1 min', 'value': 32},\n",
       "        'end_location': {'lat': 1.3010974, 'lng': 103.8564712},\n",
       "        'html_instructions': 'Head <b>northeast</b> on <b>Victoria St</b> toward <b>Victoria Link</b>',\n",
       "        'polyline': {'points': 'ia}Fsl{xRq@i@'},\n",
       "        'start_location': {'lat': 1.3008509, 'lng': 103.8562574},\n",
       "        'travel_mode': 'WALKING'},\n",
       "       {'distance': {'text': '26 m', 'value': 26},\n",
       "        'duration': {'text': '1 min', 'value': 18},\n",
       "        'end_location': {'lat': 1.3010062, 'lng': 103.8566148},\n",
       "        'html_instructions': 'Turn <b>right</b> onto <b>Victoria Link</b>',\n",
       "        'maneuver': 'turn-right',\n",
       "        'polyline': {'points': '{b}F}m{xR@EHGDM'},\n",
       "        'start_location': {'lat': 1.3010974, 'lng': 103.8564712},\n",
       "        'travel_mode': 'WALKING'},\n",
       "       {'distance': {'text': '92 m', 'value': 92},\n",
       "        'duration': {'text': '1 min', 'value': 71},\n",
       "        'end_location': {'lat': 1.3003974, 'lng': 103.857258},\n",
       "        'html_instructions': 'Slight <b>left</b> to stay on <b>Victoria Link</b>',\n",
       "        'maneuver': 'turn-slight-left',\n",
       "        'polyline': {'points': 'ib}Fyn{xRBCDED[NOv@{@TUJD'},\n",
       "        'start_location': {'lat': 1.3010062, 'lng': 103.8566148},\n",
       "        'travel_mode': 'WALKING'},\n",
       "       {'distance': {'text': '32 m', 'value': 32},\n",
       "        'duration': {'text': '1 min', 'value': 25},\n",
       "        'end_location': {'lat': 1.3001567, 'lng': 103.8570036},\n",
       "        'html_instructions': 'Turn <b>right</b> onto <b>North Bridge Rd</b>',\n",
       "        'maneuver': 'turn-right',\n",
       "        'polyline': {'points': 'o~|F{r{xRDBTRHFHR'},\n",
       "        'start_location': {'lat': 1.3003974, 'lng': 103.857258},\n",
       "        'travel_mode': 'WALKING'},\n",
       "       {'distance': {'text': '49 m', 'value': 49},\n",
       "        'duration': {'text': '1 min', 'value': 37},\n",
       "        'end_location': {'lat': 1.29986, 'lng': 103.8572739},\n",
       "        'html_instructions': 'Turn <b>left</b> onto <b>Fraser St</b>',\n",
       "        'maneuver': 'turn-left',\n",
       "        'polyline': {'points': '_}|Fgq{xRRSNKPQDC'},\n",
       "        'start_location': {'lat': 1.3001567, 'lng': 103.8570036},\n",
       "        'travel_mode': 'WALKING'},\n",
       "       {'distance': {'text': '0.1 km', 'value': 126},\n",
       "        'duration': {'text': '2 mins', 'value': 94},\n",
       "        'end_location': {'lat': 1.2994335, 'lng': 103.8581633},\n",
       "        'html_instructions': 'Turn <b>right</b><div style=\"font-size:0.9em\">Destination will be on the right</div>',\n",
       "        'maneuver': 'turn-right',\n",
       "        'polyline': {'points': 'c{|F}r{xRB?DAJE`@_@HIFG@A@A@CBEBE@E@I@G@K@KAQAKCKCI'},\n",
       "        'start_location': {'lat': 1.29986, 'lng': 103.8572739},\n",
       "        'travel_mode': 'WALKING'}],\n",
       "      'travel_mode': 'WALKING'}],\n",
       "    'traffic_speed_entry': [],\n",
       "    'via_waypoint': []}],\n",
       "  'overview_polyline': {'points': 'ku_GmeuyRe@yBu@L?JCBAJFVPv@_@Jk@mCM?IBwFmBuAnEk@jBe@rCYtAq@|BoBbGm@jBcA|C{AlEg@nAwB`EiA|B_EzHe@j@e@Z_@Rc@Ns@Ho@@[E}A[uFiBs@WiEsAqA_@k@Go@?m@Fa@Ju@`@i@f@QVQh@Ml@Et@H|@X|@v@tAh@p@bBlB|BhCRLRVf@|@bCxCl@hAb@~@b@zAFz@F|@CbBOvAGb@St@M\\\\Wn@_@j@wB~Ci@z@g@v@uDnFkDzEu@dAi@|@cAtBU`ACb@UjASh@Wt@ONO\\\\w@bBSb@OVOr@ObAuB|KuAhHaDvOg@tBu@pBa@z@Ix@Af@xAzBrHhKzAlBpAjBx@b@l@j@z@bAf@jAtD`Ml@~B`@fBREKBVnALf@]HaAoBDAv@zCv@nCz@~C~@zDz@nDl@vCb@hDrAdS`ApNr@nKX`FPvCTvC\\\\jEt@dJb@zEp@xG^pCVrAZ~A`DtM`B|GLz@Ft@DlAIlCYbEGfAApB@jAF`AV|BZ|BfBtNfCvRPjBDnAA~@KjBMnCAjBFtA|AvT|@|I|CdYt@vK`@jGJjDXpDz@jI`A`Iv@~IpApMd@bFPzCl@jFl@jFZfCPv@Pl@Tj@b@|@hFzIjClExDbHlAxBtA~Bd@r@n@~A\\\\r@\\\\z@X`A~@~EnCxO`A`CLVvCjEpFhFXXfFnGnJrL|G`HdMzKYZ}@}BMNq@i@JMHQDED[fAkATUJDZVRZz@u@HAJE`@_@PQBCJUFi@C]GU'},\n",
       "  'summary': '',\n",
       "  'warnings': ['Walking directions are in beta. Use caution – This route may be missing sidewalks or pedestrian paths.'],\n",
       "  'waypoint_order': []}]"
      ]
     },
     "execution_count": 12,
     "metadata": {},
     "output_type": "execute_result"
    }
   ],
   "source": [
    "directions_dict"
   ]
  },
  {
   "cell_type": "code",
   "execution_count": null,
   "metadata": {
    "colab": {
     "base_uri": "https://localhost:8080/"
    },
    "executionInfo": {
     "elapsed": 280,
     "status": "ok",
     "timestamp": 1650032840845,
     "user": {
      "displayName": "Rui Qin Ng",
      "userId": "06262937238615916408"
     },
     "user_tz": -480
    },
    "id": "y8TG7Hz4golP",
    "outputId": "90afdcda-c9b0-4014-9e3d-35e199284d78"
   },
   "outputs": [
    {
     "name": "stdout",
     "output_type": "stream",
     "text": [
      "2:00pm 2:59pm\n"
     ]
    }
   ],
   "source": [
    "arrival_time = directions_dict[0]['legs'][0]['arrival_time']['text']\n",
    "departure_time = directions_dict[0]['legs'][0]['departure_time']['text']\n",
    "\n",
    "print(departure_time, arrival_time)"
   ]
  },
  {
   "cell_type": "code",
   "execution_count": null,
   "metadata": {
    "colab": {
     "base_uri": "https://localhost:8080/"
    },
    "executionInfo": {
     "elapsed": 323,
     "status": "ok",
     "timestamp": 1650032842443,
     "user": {
      "displayName": "Rui Qin Ng",
      "userId": "06262937238615916408"
     },
     "user_tz": -480
    },
    "id": "nJxaQoj0lCNF",
    "outputId": "ae9a0bad-1a4c-4fcc-9b85-040447c0970e"
   },
   "outputs": [
    {
     "name": "stdout",
     "output_type": "stream",
     "text": [
      "{'distance': {'text': '0.3 km', 'value': 269}, 'duration': {'text': '3 mins', 'value': 195}, 'end_location': {'lat': 1.3151607, 'lng': 103.9888569}, 'html_instructions': 'Walk to Tanah Merah Ferry Ter', 'polyline': {'points': 'ku_GmeuyRKi@Qw@GQ?EMBUDC@M@?JCBAF?B@DDPPv@_@Jg@eCCGEAG@E@C@'}, 'start_location': {'lat': 1.3142975, 'lng': 103.9882265}, 'steps': [{'distance': {'text': '68 m', 'value': 68}, 'duration': {'text': '1 min', 'value': 48}, 'end_location': {'lat': 1.3145616, 'lng': 103.9888227}, 'html_instructions': 'Head <b>east</b><div style=\"font-size:0.9em\">Restricted usage road</div>', 'polyline': {'points': 'ku_GmeuyRKi@Qw@GQ?EMB'}, 'start_location': {'lat': 1.3142975, 'lng': 103.9882265}, 'travel_mode': 'WALKING'}, {'distance': {'text': '86 m', 'value': 86}, 'duration': {'text': '1 min', 'value': 63}, 'end_location': {'lat': 1.3146568, 'lng': 103.9882264}, 'html_instructions': 'Turn <b>left</b><div style=\"font-size:0.9em\">Restricted usage road</div>', 'maneuver': 'turn-left', 'polyline': {'points': '_w_GciuyRUDC@M@?JCBAF?B@DDPPv@'}, 'start_location': {'lat': 1.3145616, 'lng': 103.9888227}, 'travel_mode': 'WALKING'}, {'distance': {'text': '19 m', 'value': 19}, 'duration': {'text': '1 min', 'value': 14}, 'end_location': {'lat': 1.3148164, 'lng': 103.9881745}, 'html_instructions': 'Turn <b>right</b>', 'maneuver': 'turn-right', 'polyline': {'points': 'sw_GmeuyR_@J'}, 'start_location': {'lat': 1.3146568, 'lng': 103.9882264}, 'travel_mode': 'WALKING'}, {'distance': {'text': '0.1 km', 'value': 96}, 'duration': {'text': '1 min', 'value': 70}, 'end_location': {'lat': 1.3151607, 'lng': 103.9888569}, 'html_instructions': 'Turn <b>right</b><div style=\"font-size:0.9em\">Destination will be on the right</div>', 'maneuver': 'turn-right', 'polyline': {'points': 'sx_GaeuyRg@eCCGEAG@E@C@'}, 'start_location': {'lat': 1.3148164, 'lng': 103.9881745}, 'travel_mode': 'WALKING'}], 'travel_mode': 'WALKING'}\n",
      "{'distance': {'text': '6.4 km', 'value': 6391}, 'duration': {'text': '13 mins', 'value': 780}, 'end_location': {'lat': 1.326844, 'lng': 103.946457}, 'html_instructions': 'Bus towards Bedok', 'polyline': {'points': '_{_GqiuyRoFgBIVo@vBCJWr@k@jBe@rCYtAq@|B_BbFO^M`@_@hA[|@g@~A{AlEg@nA]r@yAlCi@hA_@r@{@bBQZwAlCYl@e@j@e@ZGFWJKDWHs@Ho@@A?YEq@Kk@OwAg@k@OuAe@[Ka@OA?AAMEgCu@_@OQGOESIKC[KUEUCUCSA[@YBSBMDSD_@PUNYTOPQVQh@IZCPAJAHAL?P@\\\\F^J\\\\L^LRLVLRLTV\\\\PRPTpAvAr@x@hAnARLRVf@|@bCxCDJf@|@`@|@@@b@zAFz@B`@BZ?b@C~@Gt@G`@AJEVI`@IR?@MZWn@_@j@iBhCMTU^SZORCFEFMREFKRsBtCo@|@qAhBSVs@bAQTQVc@l@SZU`@_@r@c@`AM`@G^Cb@UjAO^CHELQf@ONO\\\\o@vAGJIPIPOVOr@Kl@CTe@lCMj@y@fEGZc@zBSdAAB[bBi@hCc@tB?BSbAWrAGRKf@S~@IZOr@GTENGPENSd@Sh@S`@MXGh@AN?TAPR\\\\dA|AhD|EZb@zAnBPVJNNN^d@^f@Z`@t@hAx@b@l@j@Z`@^`@^|@FLT`A~C~JPl@ZpA`@fBRE'}, 'start_location': {'lat': 1.315203, 'lng': 103.988892}, 'transit_details': {'arrival_stop': {'location': {'lat': 1.326844, 'lng': 103.946457}, 'name': 'Tanah Merah Stn Exit A'}, 'arrival_time': {'text': '2:28pm', 'time_zone': 'Asia/Singapore', 'value': 1650090496}, 'departure_stop': {'location': {'lat': 1.315203, 'lng': 103.988892}, 'name': 'Tanah Merah Ferry Ter'}, 'departure_time': {'text': '2:15pm', 'time_zone': 'Asia/Singapore', 'value': 1650089716}, 'headsign': 'Bedok', 'headway': 720, 'line': {'agencies': [{'name': 'SBS Transit', 'phone': '1800 225 5663', 'url': 'https://www.sbstransit.com.sg/'}], 'color': '#55dd33', 'name': '35', 'text_color': '#000000', 'vehicle': {'icon': '//maps.gstatic.com/mapfiles/transit/iw2/6/bus2.png', 'name': 'Bus', 'type': 'BUS'}}, 'num_stops': 5}, 'travel_mode': 'TRANSIT'}\n",
      "{'distance': {'text': '0.1 km', 'value': 140}, 'duration': {'text': '2 mins', 'value': 122}, 'end_location': {'lat': 1.32719, 'lng': 103.94635}, 'html_instructions': 'Walk to Tanah Merah', 'polyline': {'points': 'cdbGg`myRVnABJHZ]HaAoB'}, 'start_location': {'lat': 1.3269015, 'lng': 103.9464378}, 'steps': [{'distance': {'text': '69 m', 'value': 69}, 'duration': {'text': '1 min', 'value': 50}, 'end_location': {'lat': 1.3267144, 'lng': 103.9458443}, 'html_instructions': 'Head <b>west</b> on <b>New Upper Changi Rd</b><div style=\"font-size:0.9em\">Destination will be on the right</div>', 'polyline': {'points': 'cdbGg`myRVnABJHZ'}, 'start_location': {'lat': 1.3269015, 'lng': 103.9464378}, 'travel_mode': 'WALKING'}, {'distance': {'text': '71 m', 'value': 71}, 'duration': {'text': '1 min', 'value': 72}, 'end_location': {'lat': 1.32719, 'lng': 103.94635}, 'html_instructions': 'Take entrance <span class=\"location\">A</span>', 'polyline': {'points': '{cbGe|lyRaAoB'}, 'start_location': {'lat': 1.3268577, 'lng': 103.9457947}, 'travel_mode': 'WALKING'}], 'travel_mode': 'WALKING'}\n",
      "{'distance': {'text': '10.8 km', 'value': 10805}, 'duration': {'text': '17 mins', 'value': 1020}, 'end_location': {'lat': 1.30047, 'lng': 103.85571}, 'html_instructions': 'Subway towards Tuas Link', 'polyline': {'points': '}ebGu_myRDAv@zCBHr@dCLb@^rADRFRBF@Hp@jCF\\\\Lh@l@dCZtAP`AVfBD^BZ@D@RBRDb@Dz@PbCLjBNbCPhCRnCBb@D`@LpB@TDf@HfABb@@L@TDb@B`@F~@PlCHnA@FBZ@LFx@?DFx@?N@T@V@TDt@H~@?J@L@LFv@HbA?BFp@@TFn@?@BVBXBZ@BHnABTBXDl@Fr@BPNlBBTBVPhBHbA?BPhBP~ALjALbAPlABJRfAJj@DTDNBLFZ^|APp@Pt@XlARv@b@`BBJ@JdA`EDRRz@DT@H@FBR@F@HB^?BBZ?F?R@TAh@AVAXCp@Ef@El@En@G|@?DG`AAr@?|@?n@@ZBd@BZ@J@FRfB?@BJ@JD^NdA@DDXBXZ~B@NPxAThBTfB@HBJ@JPtALdA@F@F@LRxAVhB@F@HPtA@H@HRzAHl@@HDl@?D@P?@@^@Z?l@APAVIrACb@?DGnAATAl@AP?L@\\\\?HBf@?DB\\\\F|@@HLjBPbCBd@V|DLzAH~@@PDb@D^LrAHn@BRBZNrARhB|@|H`@nD@L@LFj@V|BDf@@BXlE?DBZDt@Fx@BXBXFx@TfD@@@f@Bh@?DBvABb@?BLjBFp@BNXlCXlCBVBV@L^nCBPZpC@JZpDTlCBRBRFl@b@dE`@hE@JTvBFx@Dd@B\\\\Dz@B^B`@@PVnBLdADb@Db@ThBDb@Jx@NpA?HDTDTHd@FPFTHVN^DJN\\\\R^JPR\\\\vBrDpAvBZf@Xf@l@`Af@z@NVLVVb@\\\\n@LTf@z@d@|@HNn@hA\\\\n@HPjAlBd@r@n@~AR`@HPFLTl@L\\\\Jb@`@jBBLLv@Jl@nAfH~@pF`A`CFLDHvCjEpFhFXXfFnGTZxIvK|G`HdMzKYZ'}, 'start_location': {'lat': 1.32719, 'lng': 103.94635}, 'transit_details': {'arrival_stop': {'location': {'lat': 1.30047, 'lng': 103.85571}, 'name': 'Bugis'}, 'arrival_time': {'text': '2:53pm', 'time_zone': 'Asia/Singapore', 'value': 1650091999}, 'departure_stop': {'location': {'lat': 1.32719, 'lng': 103.94635}, 'name': 'Tanah Merah'}, 'departure_time': {'text': '2:36pm', 'time_zone': 'Asia/Singapore', 'value': 1650090979}, 'headsign': 'Tuas Link', 'headway': 360, 'line': {'agencies': [{'name': 'SMRT', 'phone': '1800 336 8900', 'url': 'http://www.smrt.com.sg/'}], 'color': '#049645', 'name': 'East West Line', 'text_color': '#ffffff', 'vehicle': {'icon': '//maps.gstatic.com/mapfiles/transit/iw2/6/subway2.png', 'name': 'Subway', 'type': 'SUBWAY'}}, 'num_stops': 8}, 'travel_mode': 'TRANSIT'}\n",
      "{'distance': {'text': '0.4 km', 'value': 446}, 'duration': {'text': '6 mins', 'value': 355}, 'end_location': {'lat': 1.2994335, 'lng': 103.8581633}, 'html_instructions': 'Walk to 3 Fraser St, Singapore 189352', 'polyline': {'points': '}~|Fei{xR}@}BMNq@i@@EHGDMBCDED[NOv@{@TUJDDBTRHFHRRSNKPQDCB?DAJE`@_@HIFG@A@A@CBEBE@E@I@G@K@KAQAKCKCI'}, 'start_location': {'lat': 1.30047, 'lng': 103.85571}, 'steps': [{'distance': {'text': '77 m', 'value': 77}, 'duration': {'text': '1 min', 'value': 78}, 'end_location': {'lat': 1.3007822, 'lng': 103.8563366}, 'html_instructions': 'Take exit <span class=\"location\">B</span>', 'polyline': {'points': '}~|Fei{xR}@}B'}, 'start_location': {'lat': 1.30047, 'lng': 103.85571}, 'travel_mode': 'WALKING'}, {'distance': {'text': '44 m', 'value': 44}, 'duration': {'text': '1 min', 'value': 32}, 'end_location': {'lat': 1.3010974, 'lng': 103.8564712}, 'html_instructions': 'Head <b>northeast</b> on <b>Victoria St</b> toward <b>Victoria Link</b>', 'polyline': {'points': 'ia}Fsl{xRq@i@'}, 'start_location': {'lat': 1.3008509, 'lng': 103.8562574}, 'travel_mode': 'WALKING'}, {'distance': {'text': '26 m', 'value': 26}, 'duration': {'text': '1 min', 'value': 18}, 'end_location': {'lat': 1.3010062, 'lng': 103.8566148}, 'html_instructions': 'Turn <b>right</b> onto <b>Victoria Link</b>', 'maneuver': 'turn-right', 'polyline': {'points': '{b}F}m{xR@EHGDM'}, 'start_location': {'lat': 1.3010974, 'lng': 103.8564712}, 'travel_mode': 'WALKING'}, {'distance': {'text': '92 m', 'value': 92}, 'duration': {'text': '1 min', 'value': 71}, 'end_location': {'lat': 1.3003974, 'lng': 103.857258}, 'html_instructions': 'Slight <b>left</b> to stay on <b>Victoria Link</b>', 'maneuver': 'turn-slight-left', 'polyline': {'points': 'ib}Fyn{xRBCDED[NOv@{@TUJD'}, 'start_location': {'lat': 1.3010062, 'lng': 103.8566148}, 'travel_mode': 'WALKING'}, {'distance': {'text': '32 m', 'value': 32}, 'duration': {'text': '1 min', 'value': 25}, 'end_location': {'lat': 1.3001567, 'lng': 103.8570036}, 'html_instructions': 'Turn <b>right</b> onto <b>North Bridge Rd</b>', 'maneuver': 'turn-right', 'polyline': {'points': 'o~|F{r{xRDBTRHFHR'}, 'start_location': {'lat': 1.3003974, 'lng': 103.857258}, 'travel_mode': 'WALKING'}, {'distance': {'text': '49 m', 'value': 49}, 'duration': {'text': '1 min', 'value': 37}, 'end_location': {'lat': 1.29986, 'lng': 103.8572739}, 'html_instructions': 'Turn <b>left</b> onto <b>Fraser St</b>', 'maneuver': 'turn-left', 'polyline': {'points': '_}|Fgq{xRRSNKPQDC'}, 'start_location': {'lat': 1.3001567, 'lng': 103.8570036}, 'travel_mode': 'WALKING'}, {'distance': {'text': '0.1 km', 'value': 126}, 'duration': {'text': '2 mins', 'value': 94}, 'end_location': {'lat': 1.2994335, 'lng': 103.8581633}, 'html_instructions': 'Turn <b>right</b><div style=\"font-size:0.9em\">Destination will be on the right</div>', 'maneuver': 'turn-right', 'polyline': {'points': 'c{|F}r{xRB?DAJE`@_@HIFG@A@A@CBEBE@E@I@G@K@KAQAKCKCI'}, 'start_location': {'lat': 1.29986, 'lng': 103.8572739}, 'travel_mode': 'WALKING'}], 'travel_mode': 'WALKING'}\n"
     ]
    }
   ],
   "source": [
    "# Create csv of all trips - refer to notebook 1\n",
    "for l in directions_dict[0]['legs'][0]['steps']:\n",
    "    print(l)"
   ]
  },
  {
   "cell_type": "code",
   "execution_count": null,
   "metadata": {
    "colab": {
     "base_uri": "https://localhost:8080/",
     "height": 166
    },
    "executionInfo": {
     "elapsed": 15,
     "status": "error",
     "timestamp": 1650030484060,
     "user": {
      "displayName": "Rui Qin Ng",
      "userId": "06262937238615916408"
     },
     "user_tz": -480
    },
    "id": "oYE_ryI9NNq0",
    "outputId": "f8768838-00a4-4e5b-92b7-51b834da8073"
   },
   "outputs": [
    {
     "ename": "TypeError",
     "evalue": "ignored",
     "output_type": "error",
     "traceback": [
      "\u001b[0;31m---------------------------------------------------------------------------\u001b[0m",
      "\u001b[0;31mTypeError\u001b[0m                                 Traceback (most recent call last)",
      "\u001b[0;32m<ipython-input-64-37b39a6b0646>\u001b[0m in \u001b[0;36m<module>\u001b[0;34m()\u001b[0m\n\u001b[0;32m----> 1\u001b[0;31m \u001b[0mdirections_dict\u001b[0m\u001b[0;34m[\u001b[0m\u001b[0;34m'legs'\u001b[0m\u001b[0;34m]\u001b[0m\u001b[0;34m\u001b[0m\u001b[0;34m\u001b[0m\u001b[0m\n\u001b[0m",
      "\u001b[0;31mTypeError\u001b[0m: list indices must be integers or slices, not str"
     ]
    }
   ],
   "source": [
    "# id, trip_seq_no, mode, type, from_lat_lng, to_lat_lng, from_name, to_name, start_time, end_time\n",
    "# 1, 1, WALKING, \"\", (1.3148164, 103.9881745), (1.3148164, 103.9881745), AAA, BBB, ...\n",
    "# 1, 2, TRANSIT, \"35\", (1.3148164, 103.9881745), (1.3148164, 103.9881745), BBB, CCC, ...\n",
    "# 1, 3, WALKING, \"\", (1.3148164, 103.9881745), (1.3148164, 103.9881745), CCC, DDD, ...\n",
    "# 1, 4, TRANSIT, \"East West Line\", (1.3148164, 103.9881745), (1.3148164, 103.9881745), DDD, EEE, ...\n",
    "# ..."
   ]
  },
  {
   "cell_type": "code",
   "execution_count": null,
   "metadata": {
    "colab": {
     "base_uri": "https://localhost:8080/"
    },
    "executionInfo": {
     "elapsed": 6,
     "status": "ok",
     "timestamp": 1650032457062,
     "user": {
      "displayName": "Rui Qin Ng",
      "userId": "06262937238615916408"
     },
     "user_tz": -480
    },
    "id": "WIIZn558mDUg",
    "outputId": "60133da4-1c3c-41a4-faab-dff6ed1b55f1"
   },
   "outputs": [
    {
     "name": "stdout",
     "output_type": "stream",
     "text": [
      "['[{\"bounds\": {\"northeast\": {\"lat\": 1.3321295, \"lng\": 103.9894148}, \"southwest\": {\"lat\": 1.2993763, \"lng\": 103.85571}}, \"copyrights\": \"Map data \\\\u00a92022 Google\", \"legs\": [{\"arrival_time\": {\"text\": \"2:59pm\", \"time_zone\": \"Asia/Singapore\", \"value\": 1650092358}, \"departure_time\": {\"text\": \"2:00pm\", \"time_zone\": \"Asia/Singapore\", \"value\": 1650088800}, \"distance\": {\"text\": \"18.1 km\", \"value\": 18051}, \"duration\": {\"text\": \"59 mins\", \"value\": 3558}, \"end_address\": \"3 Fraser St, Singapore 189352\", \"end_location\": {\"lat\": 1.2994335, \"lng\": 103.8581633}, \"start_address\": \"50 Tanah Merah Ferry Rd, Tanah Merah Ferry Terminal, Singapore 498833\", \"start_location\": {\"lat\": 1.3142975, \"lng\": 103.9882265}, \"steps\": [{\"distance\": {\"text\": \"0.3 km\", \"value\": 269}, \"duration\": {\"text\": \"3 mins\", \"value\": 195}, \"end_location\": {\"lat\": 1.3151607, \"lng\": 103.9888569}, \"html_instructions\": \"Walk to Tanah Merah Ferry Ter\", \"polyline\": {\"points\": \"ku_GmeuyRKi@Qw@GQ?EMBUDC@M@?JCBAF?B@DDPPv@_@Jg@eCCGEAG@E@C@\"}, \"start_location\": {\"lat\": 1.3142975, \"lng\": 103.9882265}, \"steps\": [{\"distance\": {\"text\": \"68 m\", \"value\": 68}, \"duration\": {\"text\": \"1 min\", \"value\": 48}, \"end_location\": {\"lat\": 1.3145616, \"lng\": 103.9888227}, \"html_instructions\": \"Head <b>east</b><div style=\\\\\"font-size:0.9em\\\\\">Restricted usage road</div>\", \"polyline\": {\"points\": \"ku_GmeuyRKi@Qw@GQ?EMB\"}, \"start_location\": {\"lat\": 1.3142975, \"lng\": 103.9882265}, \"travel_mode\": \"WALKING\"}, {\"distance\": {\"text\": \"86 m\", \"value\": 86}, \"duration\": {\"text\": \"1 min\", \"value\": 63}, \"end_location\": {\"lat\": 1.3146568, \"lng\": 103.9882264}, \"html_instructions\": \"Turn <b>left</b><div style=\\\\\"font-size:0.9em\\\\\">Restricted usage road</div>\", \"maneuver\": \"turn-left\", \"polyline\": {\"points\": \"_w_GciuyRUDC@M@?JCBAF?B@DDPPv@\"}, \"start_location\": {\"lat\": 1.3145616, \"lng\": 103.9888227}, \"travel_mode\": \"WALKING\"}, {\"distance\": {\"text\": \"19 m\", \"value\": 19}, \"duration\": {\"text\": \"1 min\", \"value\": 14}, \"end_location\": {\"lat\": 1.3148164, \"lng\": 103.9881745}, \"html_instructions\": \"Turn <b>right</b>\", \"maneuver\": \"turn-right\", \"polyline\": {\"points\": \"sw_GmeuyR_@J\"}, \"start_location\": {\"lat\": 1.3146568, \"lng\": 103.9882264}, \"travel_mode\": \"WALKING\"}, {\"distance\": {\"text\": \"0.1 km\", \"value\": 96}, \"duration\": {\"text\": \"1 min\", \"value\": 70}, \"end_location\": {\"lat\": 1.3151607, \"lng\": 103.9888569}, \"html_instructions\": \"Turn <b>right</b><div style=\\\\\"font-size:0.9em\\\\\">Destination will be on the right</div>\", \"maneuver\": \"turn-right\", \"polyline\": {\"points\": \"sx_GaeuyRg@eCCGEAG@E@C@\"}, \"start_location\": {\"lat\": 1.3148164, \"lng\": 103.9881745}, \"travel_mode\": \"WALKING\"}], \"travel_mode\": \"WALKING\"}, {\"distance\": {\"text\": \"6.4 km\", \"value\": 6391}, \"duration\": {\"text\": \"13 mins\", \"value\": 780}, \"end_location\": {\"lat\": 1.326844, \"lng\": 103.946457}, \"html_instructions\": \"Bus towards Bedok\", \"polyline\": {\"points\": \"_{_GqiuyRoFgBIVo@vBCJWr@k@jBe@rCYtAq@|B_BbFO^M`@_@hA[|@g@~A{AlEg@nA]r@yAlCi@hA_@r@{@bBQZwAlCYl@e@j@e@ZGFWJKDWHs@Ho@@A?YEq@Kk@OwAg@k@OuAe@[Ka@OA?AAMEgCu@_@OQGOESIKC[KUEUCUCSA[@YBSBMDSD_@PUNYTOPQVQh@IZCPAJAHAL?P@\\\\\\\\F^J\\\\\\\\L^LRLVLRLTV\\\\\\\\PRPTpAvAr@x@hAnARLRVf@|@bCxCDJf@|@`@|@@@b@zAFz@B`@BZ?b@C~@Gt@G`@AJEVI`@IR?@MZWn@_@j@iBhCMTU^SZORCFEFMREFKRsBtCo@|@qAhBSVs@bAQTQVc@l@SZU`@_@r@c@`AM`@G^Cb@UjAO^CHELQf@ONO\\\\\\\\o@vAGJIPIPOVOr@Kl@CTe@lCMj@y@fEGZc@zBSdAAB[bBi@hCc@tB?BSbAWrAGRKf@S~@IZOr@GTENGPENSd@Sh@S`@MXGh@AN?TAPR\\\\\\\\dA|AhD|EZb@zAnBPVJNNN^d@^f@Z`@t@hAx@b@l@j@Z`@^`@^|@FLT`A~C~JPl@ZpA`@fBRE\"}, \"start_location\": {\"lat\": 1.315203, \"lng\": 103.988892}, \"transit_details\": {\"arrival_stop\": {\"location\": {\"lat\": 1.326844, \"lng\": 103.946457}, \"name\": \"Tanah Merah Stn Exit A\"}, \"arrival_time\": {\"text\": \"2:28pm\", \"time_zone\": \"Asia/Singapore\", \"value\": 1650090496}, \"departure_stop\": {\"location\": {\"lat\": 1.315203, \"lng\": 103.988892}, \"name\": \"Tanah Merah Ferry Ter\"}, \"departure_time\": {\"text\": \"2:15pm\", \"time_zone\": \"Asia/Singapore\", \"value\": 1650089716}, \"headsign\": \"Bedok\", \"headway\": 720, \"line\": {\"agencies\": [{\"name\": \"SBS Transit\", \"phone\": \"1800 225 5663\", \"url\": \"https://www.sbstransit.com.sg/\"}], \"color\": \"#55dd33\", \"name\": \"35\", \"text_color\": \"#000000\", \"vehicle\": {\"icon\": \"//maps.gstatic.com/mapfiles/transit/iw2/6/bus2.png\", \"name\": \"Bus\", \"type\": \"BUS\"}}, \"num_stops\": 5}, \"travel_mode\": \"TRANSIT\"}, {\"distance\": {\"text\": \"0.1 km\", \"value\": 140}, \"duration\": {\"text\": \"2 mins\", \"value\": 122}, \"end_location\": {\"lat\": 1.32719, \"lng\": 103.94635}, \"html_instructions\": \"Walk to Tanah Merah\", \"polyline\": {\"points\": \"cdbGg`myRVnABJHZ]HaAoB\"}, \"start_location\": {\"lat\": 1.3269015, \"lng\": 103.9464378}, \"steps\": [{\"distance\": {\"text\": \"69 m\", \"value\": 69}, \"duration\": {\"text\": \"1 min\", \"value\": 50}, \"end_location\": {\"lat\": 1.3267144, \"lng\": 103.9458443}, \"html_instructions\": \"Head <b>west</b> on <b>New Upper Changi Rd</b><div style=\\\\\"font-size:0.9em\\\\\">Destination will be on the right</div>\", \"polyline\": {\"points\": \"cdbGg`myRVnABJHZ\"}, \"start_location\": {\"lat\": 1.3269015, \"lng\": 103.9464378}, \"travel_mode\": \"WALKING\"}, {\"distance\": {\"text\": \"71 m\", \"value\": 71}, \"duration\": {\"text\": \"1 min\", \"value\": 72}, \"end_location\": {\"lat\": 1.32719, \"lng\": 103.94635}, \"html_instructions\": \"Take entrance <span class=\\\\\"location\\\\\">A</span>\", \"polyline\": {\"points\": \"{cbGe|lyRaAoB\"}, \"start_location\": {\"lat\": 1.3268577, \"lng\": 103.9457947}, \"travel_mode\": \"WALKING\"}], \"travel_mode\": \"WALKING\"}, {\"distance\": {\"text\": \"10.8 km\", \"value\": 10805}, \"duration\": {\"text\": \"17 mins\", \"value\": 1020}, \"end_location\": {\"lat\": 1.30047, \"lng\": 103.85571}, \"html_instructions\": \"Subway towards Tuas Link\", \"polyline\": {\"points\": \"}ebGu_myRDAv@zCBHr@dCLb@^rADRFRBF@Hp@jCF\\\\\\\\Lh@l@dCZtAP`AVfBD^BZ@D@RBRDb@Dz@PbCLjBNbCPhCRnCBb@D`@LpB@TDf@HfABb@@L@TDb@B`@F~@PlCHnA@FBZ@LFx@?DFx@?N@T@V@TDt@H~@?J@L@LFv@HbA?BFp@@TFn@?@BVBXBZ@BHnABTBXDl@Fr@BPNlBBTBVPhBHbA?BPhBP~ALjALbAPlABJRfAJj@DTDNBLFZ^|APp@Pt@XlARv@b@`BBJ@JdA`EDRRz@DT@H@FBR@F@HB^?BBZ?F?R@TAh@AVAXCp@Ef@El@En@G|@?DG`AAr@?|@?n@@ZBd@BZ@J@FRfB?@BJ@JD^NdA@DDXBXZ~B@NPxAThBTfB@HBJ@JPtALdA@F@F@LRxAVhB@F@HPtA@H@HRzAHl@@HDl@?D@P?@@^@Z?l@APAVIrACb@?DGnAATAl@AP?L@\\\\\\\\?HBf@?DB\\\\\\\\F|@@HLjBPbCBd@V|DLzAH~@@PDb@D^LrAHn@BRBZNrARhB|@|H`@nD@L@LFj@V|BDf@@BXlE?DBZDt@Fx@BXBXFx@TfD@@@f@Bh@?DBvABb@?BLjBFp@BNXlCXlCBVBV@L^nCBPZpC@JZpDTlCBRBRFl@b@dE`@hE@JTvBFx@Dd@B\\\\\\\\Dz@B^B`@@PVnBLdADb@Db@ThBDb@Jx@NpA?HDTDTHd@FPFTHVN^DJN\\\\\\\\R^JPR\\\\\\\\vBrDpAvBZf@Xf@l@`Af@z@NVLVVb@\\\\\\\\n@LTf@z@d@|@HNn@hA\\\\\\\\n@HPjAlBd@r@n@~AR`@HPFLTl@L\\\\\\\\Jb@`@jBBLLv@Jl@nAfH~@pF`A`CFLDHvCjEpFhFXXfFnGTZxIvK|G`HdMzKYZ\"}, \"start_location\": {\"lat\": 1.32719, \"lng\": 103.94635}, \"transit_details\": {\"arrival_stop\": {\"location\": {\"lat\": 1.30047, \"lng\": 103.85571}, \"name\": \"Bugis\"}, \"arrival_time\": {\"text\": \"2:53pm\", \"time_zone\": \"Asia/Singapore\", \"value\": 1650091999}, \"departure_stop\": {\"location\": {\"lat\": 1.32719, \"lng\": 103.94635}, \"name\": \"Tanah Merah\"}, \"departure_time\": {\"text\": \"2:36pm\", \"time_zone\": \"Asia/Singapore\", \"value\": 1650090979}, \"headsign\": \"Tuas Link\", \"headway\": 360, \"line\": {\"agencies\": [{\"name\": \"SMRT\", \"phone\": \"1800 336 8900\", \"url\": \"http://www.smrt.com.sg/\"}], \"color\": \"#049645\", \"name\": \"East West Line\", \"text_color\": \"#ffffff\", \"vehicle\": {\"icon\": \"//maps.gstatic.com/mapfiles/transit/iw2/6/subway2.png\", \"name\": \"Subway\", \"type\": \"SUBWAY\"}}, \"num_stops\": 8}, \"travel_mode\": \"TRANSIT\"}, {\"distance\": {\"text\": \"0.4 km\", \"value\": 446}, \"duration\": {\"text\": \"6 mins\", \"value\": 359}, \"end_location\": {\"lat\": 1.2994335, \"lng\": 103.8581633}, \"html_instructions\": \"Walk to 3 Fraser St, Singapore 189352\", \"polyline\": {\"points\": \"}~|Fei{xR}@}BMNq@i@SELIFENEBCDED[NOv@{@TUJDDBTRHFHRRSNKPQDCB?DAJE`@_@HIFG@A@A@CBEBE@E@I@G@K@KAQAKCKCI\"}, \"start_location\": {\"lat\": 1.30047, \"lng\": 103.85571}, \"steps\": [{\"distance\": {\"text\": \"77 m\", \"value\": 77}, \"duration\": {\"text\": \"1 min\", \"value\": 78}, \"end_location\": {\"lat\": 1.3007822, \"lng\": 103.8563366}, \"html_instructions\": \"Take exit <span class=\\\\\"location\\\\\">B</span>\", \"polyline\": {\"points\": \"}~|Fei{xR}@}B\"}, \"start_location\": {\"lat\": 1.30047, \"lng\": 103.85571}, \"travel_mode\": \"WALKING\"}, {\"distance\": {\"text\": \"44 m\", \"value\": 44}, \"duration\": {\"text\": \"1 min\", \"value\": 32}, \"end_location\": {\"lat\": 1.3012046, \"lng\": 103.8564973}, \"html_instructions\": \"Head <b>northeast</b> on <b>Victoria St</b> toward <b>Victoria Link</b>\", \"polyline\": {\"points\": \"ia}Fsl{xRq@i@SE\"}, \"start_location\": {\"lat\": 1.3008509, \"lng\": 103.8562574}, \"travel_mode\": \"WALKING\"}, {\"distance\": {\"text\": \"26 m\", \"value\": 26}, \"duration\": {\"text\": \"1 min\", \"value\": 20}, \"end_location\": {\"lat\": 1.3010062, \"lng\": 103.8566148}, \"html_instructions\": \"Turn <b>right</b> onto <b>Victoria Link</b>\", \"maneuver\": \"turn-right\", \"polyline\": {\"points\": \"oc}Fcn{xRLIFENE\"}, \"start_location\": {\"lat\": 1.3012046, \"lng\": 103.8564973}, \"travel_mode\": \"WALKING\"}, {\"distance\": {\"text\": \"92 m\", \"value\": 92}, \"duration\": {\"text\": \"1 min\", \"value\": 73}, \"end_location\": {\"lat\": 1.3003974, \"lng\": 103.857258}, \"html_instructions\": \"Slight <b>left</b> to stay on <b>Victoria Link</b>\", \"maneuver\": \"turn-slight-left\", \"polyline\": {\"points\": \"ib}Fyn{xRBCDED[NOv@{@TUJD\"}, \"start_location\": {\"lat\": 1.3010062, \"lng\": 103.8566148}, \"travel_mode\": \"WALKING\"}, {\"distance\": {\"text\": \"32 m\", \"value\": 32}, \"duration\": {\"text\": \"1 min\", \"value\": 25}, \"end_location\": {\"lat\": 1.3001567, \"lng\": 103.8570036}, \"html_instructions\": \"Turn <b>right</b> onto <b>North Bridge Rd</b>\", \"maneuver\": \"turn-right\", \"polyline\": {\"points\": \"o~|F{r{xRDBTRHFHR\"}, \"start_location\": {\"lat\": 1.3003974, \"lng\": 103.857258}, \"travel_mode\": \"WALKING\"}, {\"distance\": {\"text\": \"49 m\", \"value\": 49}, \"duration\": {\"text\": \"1 min\", \"value\": 37}, \"end_location\": {\"lat\": 1.29986, \"lng\": 103.8572739}, \"html_instructions\": \"Turn <b>left</b> onto <b>Fraser St</b>\", \"maneuver\": \"turn-left\", \"polyline\": {\"points\": \"_}|Fgq{xRRSNKPQDC\"}, \"start_location\": {\"lat\": 1.3001567, \"lng\": 103.8570036}, \"travel_mode\": \"WALKING\"}, {\"distance\": {\"text\": \"0.1 km\", \"value\": 126}, \"duration\": {\"text\": \"2 mins\", \"value\": 94}, \"end_location\": {\"lat\": 1.2994335, \"lng\": 103.8581633}, \"html_instructions\": \"Turn <b>right</b><div style=\\\\\"font-size:0.9em\\\\\">Destination will be on the right</div>\", \"maneuver\": \"turn-right\", \"polyline\": {\"points\": \"c{|F}r{xRB?DAJE`@_@HIFG@A@A@CBEBE@E@I@G@K@KAQAKCKCI\"}, \"start_location\": {\"lat\": 1.29986, \"lng\": 103.8572739}, \"travel_mode\": \"WALKING\"}], \"travel_mode\": \"WALKING\"}], \"traffic_speed_entry\": [], \"via_waypoint\": []}], \"overview_polyline\": {\"points\": \"ku_GmeuyRe@yBu@L?JCBAJFVPv@_@Jk@mCM?IBwFmBuAnEk@jBe@rCYtAq@|BoBbGm@jBcA|C{AlEg@nAwB`EiA|B_EzHe@j@e@Z_@Rc@Ns@Ho@@[E}A[uFiBs@WiEsAqA_@k@Go@?m@Fa@Ju@`@i@f@QVQh@Ml@Et@H|@X|@v@tAh@p@bBlB|BhCRLRVf@|@bCxCl@hAb@~@b@zAFz@F|@CbBOvAGb@St@M\\\\\\\\Wn@_@j@wB~Ci@z@g@v@uDnFkDzEu@dAi@|@cAtBU`ACb@UjASh@Wt@ONO\\\\\\\\w@bBSb@OVOr@ObAuB|KuAhHaDvOg@tBu@pBa@z@Ix@Af@xAzBrHhKzAlBpAjBx@b@l@j@z@bAf@jAtD`Ml@~B`@fBREKBVnALf@]HaAoBDAv@zCv@nCz@~C~@zDz@nDl@vCb@hDrAdS`ApNr@nKX`FPvCTvC\\\\\\\\jEt@dJb@zEp@xG^pCVrAZ~A`DtM`B|GLz@Ft@DlAIlCYbEGfAApB@jAF`AV|BZ|BfBtNfCvRPjBDnAA~@KjBMnCAjBFtA|AvT|@|I|CdYt@vK`@jGJjDXpDz@jI`A`Iv@~IpApMd@bFPzCl@jFl@jFZfCPv@Pl@Tj@b@|@hFzIjClExDbHlAxBtA~Bd@r@n@~A\\\\\\\\r@\\\\\\\\z@X`A~@~EnCxO`A`CLVvCjEpFhFXXfFnGnJrL|G`HdMzKYZ}@}BMNq@i@SELIVKHID[NOlAqAPH^ZHRRS`@]ZKt@s@JQFc@?]EWCI\"}, \"summary\": \"\", \"warnings\": [\"Walking directions are in beta. Use caution \\\\u2013 This route may be missing sidewalks or pedestrian paths.\"], \"waypoint_order\": []}]']\n"
     ]
    }
   ],
   "source": [
    "with open('/gdrive/My Drive/Tigyore/data/sample_directions_response.json', 'r') as f:\n",
    "    print(f.readlines())"
   ]
  },
  {
   "cell_type": "code",
   "execution_count": null,
   "metadata": {
    "id": "Maqt_hECmREX"
   },
   "outputs": [],
   "source": []
  }
 ],
 "metadata": {
  "colab": {
   "collapsed_sections": [],
   "name": "4a. Trip Builder Prototype.ipynb",
   "provenance": [
    {
     "file_id": "1BvVjrba06XUFbuEuDx8TcOo8OP2J6PHK",
     "timestamp": 1650190375646
    }
   ]
  },
  "kernelspec": {
   "display_name": "Python 3 (ipykernel)",
   "language": "python",
   "name": "python3"
  },
  "language_info": {
   "codemirror_mode": {
    "name": "ipython",
    "version": 3
   },
   "file_extension": ".py",
   "mimetype": "text/x-python",
   "name": "python",
   "nbconvert_exporter": "python",
   "pygments_lexer": "ipython3",
   "version": "3.9.5"
  }
 },
 "nbformat": 4,
 "nbformat_minor": 1
}
