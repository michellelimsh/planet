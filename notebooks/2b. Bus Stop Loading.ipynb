{
 "cells": [
  {
   "cell_type": "markdown",
   "metadata": {
    "id": "owRhnxW15t_w"
   },
   "source": [
    "## Install pyTigerGraph"
   ]
  },
  {
   "cell_type": "code",
   "execution_count": null,
   "metadata": {
    "colab": {
     "base_uri": "https://localhost:8080/"
    },
    "executionInfo": {
     "elapsed": 6364,
     "status": "ok",
     "timestamp": 1650385408707,
     "user": {
      "displayName": "Rui Qin Ng",
      "userId": "06262937238615916408"
     },
     "user_tz": -480
    },
    "id": "JmsrV-SNnx31",
    "outputId": "54a66364-8100-4f4a-b8a3-86a05dc605c5"
   },
   "outputs": [],
   "source": [
    "# Setup\n",
    "!pip install -U pyTigerGraph"
   ]
  },
  {
   "cell_type": "markdown",
   "metadata": {
    "id": "pSsJAzc_5yNN"
   },
   "source": [
    "## Add Imports and Establish Initial Connection"
   ]
  },
  {
   "cell_type": "code",
   "execution_count": null,
   "metadata": {
    "colab": {
     "base_uri": "https://localhost:8080/"
    },
    "executionInfo": {
     "elapsed": 17482,
     "status": "ok",
     "timestamp": 1650385426184,
     "user": {
      "displayName": "Rui Qin Ng",
      "userId": "06262937238615916408"
     },
     "user_tz": -480
    },
    "id": "vqpwQh1_noLK",
    "outputId": "860c72b3-241a-45c0-ce6e-d24049d9373b"
   },
   "outputs": [],
   "source": [
    "# Imports\n",
    "import json\n",
    "import pandas as pd\n",
    "\n",
    "from google.colab import drive\n",
    "import pyTigerGraph as tg\n",
    "\n",
    "drive.mount('/gdrive')\n",
    "\n",
    "# Connection parameters\n",
    "hostName = ''\n",
    "userName = ''\n",
    "password = ''\n",
    "conn = tg.TigerGraphConnection(host=hostName, username=userName, password=password)\n",
    "\n",
    "print('Connected')"
   ]
  },
  {
   "cell_type": "markdown",
   "metadata": {
    "id": "MTWWoepV6Dc0"
   },
   "source": [
    "## Create Loading Jobs"
   ]
  },
  {
   "cell_type": "markdown",
   "metadata": {
    "id": "oXH8W3KIjVUC"
   },
   "source": [
    "Let's take a look at what one of our files looks like so we can write a loading job."
   ]
  },
  {
   "cell_type": "code",
   "execution_count": null,
   "metadata": {
    "colab": {
     "base_uri": "https://localhost:8080/"
    },
    "executionInfo": {
     "elapsed": 28214,
     "status": "ok",
     "timestamp": 1650385454392,
     "user": {
      "displayName": "Rui Qin Ng",
      "userId": "06262937238615916408"
     },
     "user_tz": -480
    },
    "id": "1wLGgWrl5OQw",
    "outputId": "f1503ecd-cfb4-4cc8-d4e2-d29c85f0139a"
   },
   "outputs": [],
   "source": [
    "conn.graphname='TigyoreGraph'\n",
    "secret = conn.createSecret()\n",
    "authToken = conn.getToken(secret)\n",
    "authToken = authToken[0]\n",
    "conn = tg.TigerGraphConnection(host=hostName, graphname='TigyoreGraph', username=userName, password=password, apiToken=authToken)\n",
    "\n",
    "print('Connected')"
   ]
  },
  {
   "cell_type": "code",
   "execution_count": null,
   "metadata": {
    "colab": {
     "base_uri": "https://localhost:8080/"
    },
    "executionInfo": {
     "elapsed": 337,
     "status": "ok",
     "timestamp": 1650385454723,
     "user": {
      "displayName": "Rui Qin Ng",
      "userId": "06262937238615916408"
     },
     "user_tz": -480
    },
    "id": "BebOd0P74yKj",
    "outputId": "15083055-f76b-42c6-e89c-913d61ca78d4"
   },
   "outputs": [],
   "source": [
    "!ls \"/gdrive/My Drive/Tigyore/data/nyc\""
   ]
  },
  {
   "cell_type": "code",
   "execution_count": null,
   "metadata": {
    "colab": {
     "base_uri": "https://localhost:8080/"
    },
    "executionInfo": {
     "elapsed": 347,
     "status": "ok",
     "timestamp": 1650385455068,
     "user": {
      "displayName": "Rui Qin Ng",
      "userId": "06262937238615916408"
     },
     "user_tz": -480
    },
    "id": "dV1wMpIMeZaY",
    "outputId": "b8e7d06a-0b93-40c7-8e98-500811924963"
   },
   "outputs": [],
   "source": [
    "!head -n 2 \"/gdrive/My Drive/Tigyore/data/nyc/bus_svc.csv\""
   ]
  },
  {
   "cell_type": "markdown",
   "metadata": {
    "id": "cxgULtty6JXS"
   },
   "source": [
    "This one and the messages file will look like a mess in this display because they contain sentances of text as dummy data which makes them not show up too well in the csv preview. You can just reference the header through for loading jobs."
   ]
  },
  {
   "cell_type": "markdown",
   "metadata": {
    "id": "M7Y081TD6Xh5"
   },
   "source": [
    "Here it's important to note that the `$0`, `$1` values line up with the columns of your data."
   ]
  },
  {
   "cell_type": "code",
   "execution_count": null,
   "metadata": {
    "colab": {
     "base_uri": "https://localhost:8080/"
    },
    "executionInfo": {
     "elapsed": 24769,
     "status": "ok",
     "timestamp": 1650385479835,
     "user": {
      "displayName": "Rui Qin Ng",
      "userId": "06262937238615916408"
     },
     "user_tz": -480
    },
    "id": "DU0-GkxBYquw",
    "outputId": "69e1b353-d0c9-4595-a986-aabccc4b0b15"
   },
   "outputs": [],
   "source": [
    "results = conn.gsql('''\n",
    "USE GRAPH TigyoreGraph\n",
    "SHOW VERTEX BusService\n",
    "SHOW VERTEX BusStop\n",
    "SHOW EDGE serve\n",
    "''')\n",
    "\n",
    "print(results)"
   ]
  },
  {
   "cell_type": "code",
   "execution_count": null,
   "metadata": {
    "colab": {
     "base_uri": "https://localhost:8080/"
    },
    "executionInfo": {
     "elapsed": 6474,
     "status": "ok",
     "timestamp": 1650385486303,
     "user": {
      "displayName": "Rui Qin Ng",
      "userId": "06262937238615916408"
     },
     "user_tz": -480
    },
    "id": "22W6W58idFW5",
    "outputId": "5cd722e6-5552-4e64-eb50-aa897f2257a4"
   },
   "outputs": [],
   "source": [
    "results_svc = conn.gsql('''\n",
    "  USE GRAPH TigyoreGraph\n",
    "  BEGIN\n",
    "  CREATE LOADING JOB load_bus_svc FOR GRAPH TigyoreGraph {\n",
    "  DEFINE FILENAME MyDataSource;\n",
    "  LOAD MyDataSource TO VERTEX BusService VALUES($0) USING SEPARATOR=\",\", HEADER=\"true\", EOL=\"\\\\n\", QUOTE=\"double\";\n",
    "  }\n",
    "  END\n",
    "  ''')\n",
    "\n",
    "results_stop = conn.gsql('''\n",
    "  USE GRAPH TigyoreGraph\n",
    "  BEGIN\n",
    "  CREATE LOADING JOB load_bus_stops FOR GRAPH TigyoreGraph {\n",
    "  DEFINE FILENAME MyDataSource;\n",
    "  LOAD MyDataSource TO VERTEX BusStop VALUES($0, $1, $2, $3) USING SEPARATOR=\",\", HEADER=\"true\", EOL=\"\\\\n\", QUOTE=\"double\";\n",
    "  }\n",
    "  END\n",
    "  ''')\n",
    "\n",
    "results_edge = conn.gsql('''\n",
    "  USE GRAPH TigyoreGraph\n",
    "  BEGIN\n",
    "  CREATE LOADING JOB load_serve FOR GRAPH TigyoreGraph {\n",
    "  DEFINE FILENAME MyDataSource;\n",
    "  LOAD MyDataSource TO EDGE serve VALUES($0 BusService, $3 BusStop, $2) USING SEPARATOR=\",\", HEADER=\"true\", EOL=\"\\\\n\", QUOTE=\"double\";\n",
    "  }\n",
    "  END\n",
    "  ''')\n",
    "\n",
    "print(results_svc, results_stop, results_edge)"
   ]
  },
  {
   "cell_type": "code",
   "execution_count": null,
   "metadata": {
    "colab": {
     "base_uri": "https://localhost:8080/"
    },
    "executionInfo": {
     "elapsed": 1041,
     "status": "ok",
     "timestamp": 1650385487333,
     "user": {
      "displayName": "Rui Qin Ng",
      "userId": "06262937238615916408"
     },
     "user_tz": -480
    },
    "id": "Izd3tC8Bc5DH",
    "outputId": "63f49a37-df3a-470c-e4d9-c13d75469794"
   },
   "outputs": [],
   "source": [
    "results = conn.gsql('''\n",
    "USE GRAPH TigyoreGraph\n",
    "SHOW JOB load_bus_svc\n",
    "SHOW JOB load_bus_stops\n",
    "SHOW JOB load_serve\n",
    "''')\n",
    "\n",
    "print(results)"
   ]
  },
  {
   "cell_type": "code",
   "execution_count": null,
   "metadata": {
    "colab": {
     "base_uri": "https://localhost:8080/"
    },
    "executionInfo": {
     "elapsed": 1225,
     "status": "ok",
     "timestamp": 1650385488555,
     "user": {
      "displayName": "Rui Qin Ng",
      "userId": "06262937238615916408"
     },
     "user_tz": -480
    },
    "id": "450w8nYGllZQ",
    "outputId": "07865c47-a34d-4c9b-eb96-dce702be17ce"
   },
   "outputs": [],
   "source": [
    "# Load the bus stops file with the 'load_bus_stops' job\n",
    "data_file = '/gdrive/My Drive/Tigyore/data/nyc/bus_svc.csv'\n",
    "results = conn.uploadFile(data_file, fileTag='MyDataSource', jobName='load_bus_svc')\n",
    "print(json.dumps(results, indent=2))"
   ]
  },
  {
   "cell_type": "code",
   "execution_count": null,
   "metadata": {
    "colab": {
     "base_uri": "https://localhost:8080/"
    },
    "executionInfo": {
     "elapsed": 2906,
     "status": "ok",
     "timestamp": 1650385491458,
     "user": {
      "displayName": "Rui Qin Ng",
      "userId": "06262937238615916408"
     },
     "user_tz": -480
    },
    "id": "7sObODILc9xE",
    "outputId": "17277936-df42-4f43-f8c0-7e177ece1ee2"
   },
   "outputs": [],
   "source": [
    "# Load the bus stops file with the 'load_bus_stops' job\n",
    "data_file = '/gdrive/My Drive/Tigyore/data/nyc/bus_stops_dedup.csv'\n",
    "results = conn.uploadFile(data_file, fileTag='MyDataSource', jobName='load_bus_stops')\n",
    "print(json.dumps(results, indent=2))"
   ]
  },
  {
   "cell_type": "code",
   "execution_count": null,
   "metadata": {
    "colab": {
     "base_uri": "https://localhost:8080/"
    },
    "executionInfo": {
     "elapsed": 4141,
     "status": "ok",
     "timestamp": 1650385495586,
     "user": {
      "displayName": "Rui Qin Ng",
      "userId": "06262937238615916408"
     },
     "user_tz": -480
    },
    "id": "qsjih0GydTFr",
    "outputId": "f4a2196c-6414-476d-8f8b-3a927ce8ef54"
   },
   "outputs": [],
   "source": [
    "# Load the bus stops file with the 'load_bus_stops' job\n",
    "data_file = '/gdrive/My Drive/Tigyore/data/nyc/bus_routes.csv'\n",
    "results = conn.uploadFile(data_file, fileTag='MyDataSource', jobName='load_serve')\n",
    "print(json.dumps(results, indent=2))"
   ]
  },
  {
   "cell_type": "code",
   "execution_count": null,
   "metadata": {
    "id": "3famruzVACRk"
   },
   "outputs": [],
   "source": []
  }
 ],
 "metadata": {
  "colab": {
   "collapsed_sections": [],
   "name": "2. Bus Stop Loading",
   "provenance": [
    {
     "file_id": "11aNgxPzbLHG9UCu9qZ2XlX0B5j7-tqvQ",
     "timestamp": 1649868226865
    },
    {
     "file_id": "1JhYcnGVWT51KswcXZzyPzKqCoPP5htcC",
     "timestamp": 1649698260207
    },
    {
     "file_id": "1k5QkLupaKnOIRrq3Aj1E82mtkT9uQZhO",
     "timestamp": 1628101159582
    }
   ]
  },
  "kernelspec": {
   "display_name": "Python 3 (ipykernel)",
   "language": "python",
   "name": "python3"
  },
  "language_info": {
   "codemirror_mode": {
    "name": "ipython",
    "version": 3
   },
   "file_extension": ".py",
   "mimetype": "text/x-python",
   "name": "python",
   "nbconvert_exporter": "python",
   "pygments_lexer": "ipython3",
   "version": "3.9.5"
  }
 },
 "nbformat": 4,
 "nbformat_minor": 1
}
