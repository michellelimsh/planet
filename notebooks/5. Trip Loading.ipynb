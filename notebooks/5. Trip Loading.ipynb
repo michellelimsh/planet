{
 "cells": [
  {
   "cell_type": "markdown",
   "metadata": {
    "id": "owRhnxW15t_w"
   },
   "source": [
    "## Install pyTigerGraph"
   ]
  },
  {
   "cell_type": "code",
   "execution_count": null,
   "metadata": {
    "colab": {
     "base_uri": "https://localhost:8080/"
    },
    "executionInfo": {
     "elapsed": 7712,
     "status": "ok",
     "timestamp": 1650385641612,
     "user": {
      "displayName": "Rui Qin Ng",
      "userId": "06262937238615916408"
     },
     "user_tz": -480
    },
    "id": "JmsrV-SNnx31",
    "outputId": "a7358837-091f-47e9-d4a8-e060e32dd9c6"
   },
   "outputs": [],
   "source": [
    "# Setup\n",
    "!pip install -U pyTigerGraph"
   ]
  },
  {
   "cell_type": "markdown",
   "metadata": {
    "id": "pSsJAzc_5yNN"
   },
   "source": [
    "## Add Imports and Establish Initial Connection"
   ]
  },
  {
   "cell_type": "code",
   "execution_count": null,
   "metadata": {
    "colab": {
     "base_uri": "https://localhost:8080/"
    },
    "id": "vqpwQh1_noLK",
    "outputId": "7cd7da4f-d254-4cea-b007-87a195b90d6a"
   },
   "outputs": [],
   "source": [
    "# Imports\n",
    "import json\n",
    "import pandas as pd\n",
    "\n",
    "from google.colab import drive\n",
    "import pyTigerGraph as tg\n",
    "\n",
    "drive.mount('/gdrive')\n",
    "\n",
    "# Connection parameters\n",
    "hostName = ''\n",
    "userName = ''\n",
    "password = ''\n",
    "conn = tg.TigerGraphConnection(host=hostName, username=userName, password=password)\n",
    "\n",
    "conn.graphname='TigyoreGraph'\n",
    "secret = conn.createSecret()\n",
    "authToken = conn.getToken(secret)\n",
    "authToken = authToken[0]\n",
    "conn = tg.TigerGraphConnection(host=hostName, graphname='TigyoreGraph', username=userName, password=password, apiToken=authToken)\n",
    "\n",
    "print('Connected')"
   ]
  },
  {
   "cell_type": "code",
   "execution_count": null,
   "metadata": {
    "id": "9C3fi6CfyyxN"
   },
   "outputs": [],
   "source": [
    "!ls \"/gdrive/My Drive/Tigyore/data/nyc_trips/nyc_trips_data\""
   ]
  },
  {
   "cell_type": "code",
   "execution_count": null,
   "metadata": {
    "id": "d8X_UbKuyy0P"
   },
   "outputs": [],
   "source": [
    "!head -n 200 \"/gdrive/My Drive/Tigyore/data/nyc_trips/nyc_trips_data/trips_processed.csv\""
   ]
  },
  {
   "cell_type": "markdown",
   "metadata": {
    "id": "MTWWoepV6Dc0"
   },
   "source": [
    "## Create Loading Jobs"
   ]
  },
  {
   "cell_type": "markdown",
   "metadata": {
    "id": "eNDzz_y9T7US"
   },
   "source": [
    "## Trips"
   ]
  },
  {
   "cell_type": "markdown",
   "metadata": {
    "id": "tSgdtPt6UTgr"
   },
   "source": [
    "### Create Load Data Job"
   ]
  },
  {
   "cell_type": "markdown",
   "metadata": {
    "id": "M7Y081TD6Xh5"
   },
   "source": [
    "Here it's important to note that the `$0`, `$1` values line up with the columns of your data."
   ]
  },
  {
   "cell_type": "code",
   "execution_count": null,
   "metadata": {
    "id": "DUfeC9URWMiS"
   },
   "outputs": [],
   "source": [
    "results = conn.gsql('''\n",
    "USE GRAPH TigyoreGraph\n",
    "SHOW VERTEX Trip\n",
    "SHOW VERTEX BusStop\n",
    "SHOW VERTEX TrainStation\n",
    "SHOW VERTEX BusService\n",
    "SHOW VERTEX TrainService\n",
    "SHOW VERTEX Location\n",
    "SHOW EDGE waypoint\n",
    "SHOW EDGE utilise\n",
    "''')\n",
    "\n",
    "print(results)"
   ]
  },
  {
   "cell_type": "code",
   "execution_count": null,
   "metadata": {
    "id": "22W6W58idFW5"
   },
   "outputs": [],
   "source": [
    "trip_results = conn.gsql('''\n",
    "  USE GRAPH TigyoreGraph\n",
    "  BEGIN\n",
    "  CREATE LOADING JOB load_trips FOR GRAPH TigyoreGraph {\n",
    "  DEFINE FILENAME MyDataSource;\n",
    "  LOAD MyDataSource TO VERTEX Trip VALUES($0, $8, $9) USING SEPARATOR=\",\", HEADER=\"true\", EOL=\"\\\\n\", QUOTE=\"double\";\n",
    "  }\n",
    "  END\n",
    "  ''')\n",
    "\n",
    "location_results = conn.gsql('''\n",
    "  USE GRAPH TigyoreGraph\n",
    "  BEGIN\n",
    "  CREATE LOADING JOB load_locations FOR GRAPH TigyoreGraph {\n",
    "  DEFINE FILENAME MyDataSource;\n",
    "  LOAD MyDataSource TO VERTEX Location VALUES($12, $7, $5, $6) USING SEPARATOR=\",\", HEADER=\"true\", EOL=\"\\\\n\", QUOTE=\"double\";\n",
    "  }\n",
    "  END\n",
    "  ''')\n",
    "\n",
    "waypoint_train_results = conn.gsql('''\n",
    "  USE GRAPH TigyoreGraph\n",
    "  BEGIN\n",
    "  CREATE LOADING JOB load_waypoint_train FOR GRAPH TigyoreGraph {\n",
    "  DEFINE FILENAME MyDataSource;\n",
    "  LOAD MyDataSource TO EDGE waypoint VALUES($0 Trip, $8 TrainStation, $1, 1) USING SEPARATOR=\",\", HEADER=\"true\", EOL=\"\\\\n\", QUOTE=\"double\";\n",
    "  }\n",
    "  END\n",
    "  ''')\n",
    "\n",
    "waypoint_bus_results = conn.gsql('''\n",
    "  USE GRAPH TigyoreGraph\n",
    "  BEGIN\n",
    "  CREATE LOADING JOB load_waypoint_bus FOR GRAPH TigyoreGraph {\n",
    "  DEFINE FILENAME MyDataSource;\n",
    "  LOAD MyDataSource TO EDGE waypoint VALUES($0 Trip, $8 BusStop, $1, 1) USING SEPARATOR=\",\", HEADER=\"true\", EOL=\"\\\\n\", QUOTE=\"double\";\n",
    "  }\n",
    "  END\n",
    "  ''')\n",
    "\n",
    "waypoint_other_results = conn.gsql('''\n",
    "  USE GRAPH TigyoreGraph\n",
    "  BEGIN\n",
    "  CREATE LOADING JOB load_waypoint_other FOR GRAPH TigyoreGraph {\n",
    "  DEFINE FILENAME MyDataSource;\n",
    "  LOAD MyDataSource TO EDGE waypoint VALUES($0 Trip, $12 Location, $1, 0) USING SEPARATOR=\",\", HEADER=\"true\", EOL=\"\\\\n\", QUOTE=\"double\";\n",
    "  }\n",
    "  END\n",
    "  ''')\n",
    "\n",
    "utilise_train_results = conn.gsql('''\n",
    "  USE GRAPH TigyoreGraph\n",
    "  BEGIN\n",
    "  CREATE LOADING JOB load_utilise_train FOR GRAPH TigyoreGraph {\n",
    "  DEFINE FILENAME MyDataSource;\n",
    "  LOAD MyDataSource TO EDGE utilise VALUES($0 Trip, $7 TrainService, $1, $1) USING SEPARATOR=\",\", HEADER=\"true\", EOL=\"\\\\n\", QUOTE=\"double\";\n",
    "  }\n",
    "  END\n",
    "  ''')\n",
    "\n",
    "utilise_bus_results = conn.gsql('''\n",
    "  USE GRAPH TigyoreGraph\n",
    "  BEGIN\n",
    "  CREATE LOADING JOB load_utilise_bus FOR GRAPH TigyoreGraph {\n",
    "  DEFINE FILENAME MyDataSource;\n",
    "  LOAD MyDataSource TO EDGE utilise VALUES($0 Trip, $7 BusService, $1, $1) USING SEPARATOR=\",\", HEADER=\"true\", EOL=\"\\\\n\", QUOTE=\"double\";\n",
    "  }\n",
    "  END\n",
    "  ''')\n",
    "\n",
    "print(trip_results, location_results, waypoint_train_results, waypoint_bus_results, waypoint_other_results, utilise_train_results, utilise_bus_results)"
   ]
  },
  {
   "cell_type": "code",
   "execution_count": null,
   "metadata": {
    "id": "59b2NhAzwuFi"
   },
   "outputs": [],
   "source": [
    "results = conn.gsql('''\n",
    "USE GRAPH TigyoreGraph\n",
    "SHOW JOB load_trips\n",
    "SHOW JOB load_locations\n",
    "SHOW JOB load_waypoint_train\n",
    "SHOW JOB load_waypoint_bus\n",
    "SHOW JOB load_waypoint_other\n",
    "SHOW JOB load_utilise_train\n",
    "SHOW JOB load_utilise_bus\n",
    "''')\n",
    "\n",
    "print(results)"
   ]
  },
  {
   "cell_type": "markdown",
   "metadata": {
    "id": "Nm8hvEJo7YqM"
   },
   "source": [
    "### Load Data"
   ]
  },
  {
   "cell_type": "code",
   "execution_count": null,
   "metadata": {
    "id": "450w8nYGllZQ"
   },
   "outputs": [],
   "source": [
    "data_file = '/gdrive/My Drive/Tigyore/data/nyc_trips/nyc_trips_data/trips_processed.csv'\n",
    "results = conn.uploadFile(data_file, fileTag='MyDataSource', jobName='load_trips')\n",
    "print(json.dumps(results, indent=2))"
   ]
  },
  {
   "cell_type": "code",
   "execution_count": null,
   "metadata": {
    "id": "KscT8sOWZKh0"
   },
   "outputs": [],
   "source": [
    "data_file = '/gdrive/My Drive/Tigyore/data/nyc_trips/nyc_trips_mapped/nyc_trips_subway.csv'\n",
    "\n",
    "results = conn.uploadFile(data_file, fileTag='MyDataSource', jobName='load_waypoint_train')\n",
    "print(json.dumps(results, indent=2))\n",
    "\n",
    "results = conn.uploadFile(data_file, fileTag='MyDataSource', jobName='load_utilise_train')\n",
    "print(json.dumps(results, indent=2))"
   ]
  },
  {
   "cell_type": "code",
   "execution_count": null,
   "metadata": {
    "id": "yA7ngBVq9J75"
   },
   "outputs": [],
   "source": [
    "data_file = '/gdrive/My Drive/Tigyore/data/nyc_trips/nyc_trips_mapped/nyc_trips_bus.csv'\n",
    "\n",
    "results = conn.uploadFile(data_file, fileTag='MyDataSource', jobName='load_waypoint_bus')\n",
    "print(json.dumps(results, indent=2))\n",
    "\n",
    "results = conn.uploadFile(data_file, fileTag='MyDataSource', jobName='load_utilise_bus')\n",
    "print(json.dumps(results, indent=2))"
   ]
  },
  {
   "cell_type": "code",
   "execution_count": null,
   "metadata": {
    "id": "n_8CxxFVol7d"
   },
   "outputs": [],
   "source": [
    "data_file = '/gdrive/My Drive/Tigyore/data/nyc_trips/nyc_trips_mapped/nyc_trips_other.csv'\n",
    "\n",
    "results = conn.uploadFile(data_file, fileTag='MyDataSource', jobName='load_location')\n",
    "print(json.dumps(results, indent=2))\n",
    "\n",
    "results = conn.uploadFile(data_file, fileTag='MyDataSource', jobName='load_waypoint_other')\n",
    "print(json.dumps(results, indent=2))"
   ]
  },
  {
   "cell_type": "code",
   "execution_count": null,
   "metadata": {
    "id": "_6zB9lpRbcCI"
   },
   "outputs": [],
   "source": []
  }
 ],
 "metadata": {
  "colab": {
   "collapsed_sections": [],
   "name": "5. Trip Loading",
   "provenance": [
    {
     "file_id": "11MEnB6TLKgYxZg_UfgTtN3Rfhie4rDw6",
     "timestamp": 1650014982649
    },
    {
     "file_id": "1-OViyRfSgkDjoFP5CVMYrqwOuZvM0n6q",
     "timestamp": 1650003951507
    },
    {
     "file_id": "1kKE5lPaJ2s8gX1-G_0AB0gIgASQMxt0I",
     "timestamp": 1649994131860
    },
    {
     "file_id": "11aNgxPzbLHG9UCu9qZ2XlX0B5j7-tqvQ",
     "timestamp": 1649868226865
    },
    {
     "file_id": "1JhYcnGVWT51KswcXZzyPzKqCoPP5htcC",
     "timestamp": 1649698260207
    },
    {
     "file_id": "1k5QkLupaKnOIRrq3Aj1E82mtkT9uQZhO",
     "timestamp": 1628101159582
    }
   ]
  },
  "kernelspec": {
   "display_name": "Python 3 (ipykernel)",
   "language": "python",
   "name": "python3"
  },
  "language_info": {
   "codemirror_mode": {
    "name": "ipython",
    "version": 3
   },
   "file_extension": ".py",
   "mimetype": "text/x-python",
   "name": "python",
   "nbconvert_exporter": "python",
   "pygments_lexer": "ipython3",
   "version": "3.9.5"
  }
 },
 "nbformat": 4,
 "nbformat_minor": 1
}
